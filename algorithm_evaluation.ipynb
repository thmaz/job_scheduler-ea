{
 "cells": [
  {
   "cell_type": "code",
   "execution_count": 1,
   "metadata": {},
   "outputs": [
    {
     "name": "stdout",
     "output_type": "stream",
     "text": [
      "Import success\n"
     ]
    }
   ],
   "source": [
    "from genetic import Job, ga_run\n",
    "import pandas as pd"
   ]
  },
  {
   "cell_type": "code",
   "execution_count": 2,
   "metadata": {},
   "outputs": [
    {
     "data": {
      "text/plain": [
       "<bound method NDFrame.head of     a  3  10\n",
       "0   b  2   5\n",
       "1   c  5  10\n",
       "2   d  1  10\n",
       "3   e  3  30\n",
       "4   f  1  20\n",
       "5   g  2  10\n",
       "6   h  4  25\n",
       "7   i  2  15\n",
       "8   j  3  35\n",
       "9   k  1   5\n",
       "10  l  4  40\n",
       "11  m  2  20\n",
       "12  n  3  15\n",
       "13  o  5  50\n",
       "14  p  1  30\n",
       "15  q  2  12\n",
       "16  r  4  22\n",
       "17  s  3  18\n",
       "18  t  1   8\n",
       "19  u  5  45\n",
       "20  v  2  28\n",
       "21  w  3  33\n",
       "22  x  4  12\n",
       "23  y  1   7\n",
       "24  z  2   9>"
      ]
     },
     "execution_count": 2,
     "metadata": {},
     "output_type": "execute_result"
    }
   ],
   "source": [
    "df = pd.read_csv(\"resources/new_example.csv\")\n",
    "#df = pd.read_csv(\"resources/example_problems(p2).csv\")\n",
    "\n",
    "df.head"
   ]
  },
  {
   "cell_type": "code",
   "execution_count": 3,
   "metadata": {},
   "outputs": [
    {
     "name": "stdout",
     "output_type": "stream",
     "text": [
      "0     b\n",
      "1     c\n",
      "2     d\n",
      "3     e\n",
      "4     f\n",
      "5     g\n",
      "6     h\n",
      "7     i\n",
      "8     j\n",
      "9     k\n",
      "10    l\n",
      "11    m\n",
      "12    n\n",
      "13    o\n",
      "14    p\n",
      "15    q\n",
      "16    r\n",
      "17    s\n",
      "18    t\n",
      "19    u\n",
      "20    v\n",
      "21    w\n",
      "22    x\n",
      "23    y\n",
      "24    z\n",
      "Name: a, dtype: object\n"
     ]
    }
   ],
   "source": [
    "col1 = df.iloc[:,0]\n",
    "print(col1)"
   ]
  },
  {
   "cell_type": "code",
   "execution_count": 4,
   "metadata": {},
   "outputs": [
    {
     "name": "stdout",
     "output_type": "stream",
     "text": [
      "Initial Population of Chromosomes:\n",
      "Chromosome 1: Schedule = [5, 0, 11, 9, 12, 22, 13, 24, 16, 23, 7, 17, 18, 19, 1, 10, 15, 21, 4, 2, 8, 14, 6, 3, 20]\n",
      "Chromosome 2: Schedule = [22, 10, 14, 1, 18, 13, 0, 11, 16, 23, 6, 17, 9, 7, 8, 4, 15, 5, 12, 19, 24, 3, 21, 2, 20]\n",
      "Chromosome 3: Schedule = [15, 12, 14, 24, 2, 13, 6, 23, 16, 1, 21, 7, 3, 5, 0, 4, 9, 8, 17, 18, 20, 10, 19, 11, 22]\n",
      "Chromosome 4: Schedule = [24, 22, 5, 10, 20, 12, 0, 3, 16, 18, 8, 1, 6, 11, 9, 14, 13, 2, 19, 23, 7, 4, 17, 21, 15]\n",
      "Chromosome 5: Schedule = [2, 9, 16, 4, 1, 15, 6, 14, 23, 10, 12, 24, 5, 22, 7, 8, 20, 13, 11, 17, 3, 19, 18, 21, 0]\n",
      "Chromosome 6: Schedule = [20, 15, 23, 2, 17, 0, 13, 14, 4, 12, 6, 3, 19, 16, 5, 22, 24, 18, 21, 1, 9, 8, 7, 10, 11]\n",
      "Chromosome 7: Schedule = [8, 7, 17, 21, 1, 19, 6, 16, 12, 3, 18, 11, 10, 5, 22, 14, 24, 15, 13, 0, 2, 23, 20, 9, 4]\n",
      "Chromosome 8: Schedule = [18, 16, 5, 15, 8, 7, 22, 20, 23, 17, 6, 0, 21, 11, 2, 14, 13, 12, 24, 3, 19, 10, 4, 1, 9]\n",
      "Chromosome 9: Schedule = [13, 14, 9, 11, 18, 1, 20, 22, 4, 10, 19, 21, 2, 7, 5, 6, 3, 23, 16, 24, 15, 17, 12, 0, 8]\n",
      "Chromosome 10: Schedule = [0, 9, 10, 14, 18, 23, 12, 1, 11, 16, 5, 17, 8, 7, 4, 22, 19, 24, 2, 6, 3, 15, 20, 13, 21]\n",
      "Chromosome 11: Schedule = [4, 11, 1, 5, 20, 0, 17, 7, 12, 8, 10, 6, 23, 15, 21, 18, 14, 16, 24, 22, 3, 19, 13, 2, 9]\n",
      "Chromosome 12: Schedule = [2, 5, 9, 21, 6, 16, 20, 24, 11, 22, 0, 10, 19, 23, 1, 14, 18, 4, 3, 12, 15, 7, 8, 13, 17]\n",
      "Chromosome 13: Schedule = [5, 23, 4, 19, 8, 15, 2, 22, 6, 24, 1, 14, 12, 11, 18, 10, 7, 13, 9, 3, 0, 17, 20, 16, 21]\n",
      "Chromosome 14: Schedule = [16, 3, 20, 9, 19, 7, 17, 13, 11, 0, 12, 2, 6, 4, 22, 10, 5, 24, 21, 8, 18, 15, 23, 14, 1]\n",
      "Chromosome 15: Schedule = [18, 20, 14, 19, 15, 0, 4, 17, 10, 12, 11, 2, 13, 23, 8, 3, 24, 9, 7, 21, 6, 1, 22, 16, 5]\n",
      "Chromosome 16: Schedule = [0, 7, 5, 3, 13, 16, 4, 21, 17, 10, 15, 12, 20, 14, 19, 9, 24, 11, 8, 1, 2, 18, 22, 6, 23]\n",
      "Chromosome 17: Schedule = [18, 0, 4, 21, 3, 14, 23, 11, 20, 12, 5, 8, 9, 2, 16, 22, 13, 7, 1, 19, 10, 24, 6, 17, 15]\n",
      "Chromosome 18: Schedule = [6, 9, 11, 8, 24, 10, 3, 18, 17, 22, 7, 20, 12, 2, 5, 19, 23, 15, 0, 4, 13, 21, 14, 1, 16]\n",
      "Chromosome 19: Schedule = [4, 2, 3, 16, 1, 11, 10, 14, 22, 9, 8, 6, 20, 15, 13, 7, 12, 21, 23, 18, 5, 19, 17, 0, 24]\n",
      "Chromosome 20: Schedule = [19, 13, 12, 11, 6, 14, 24, 0, 22, 15, 8, 5, 1, 2, 17, 10, 4, 3, 9, 7, 20, 16, 21, 23, 18]\n",
      "Chromosome 21: Schedule = [18, 14, 9, 10, 13, 3, 24, 20, 15, 5, 6, 23, 16, 1, 12, 8, 19, 7, 2, 0, 21, 22, 11, 17, 4]\n",
      "Chromosome 22: Schedule = [1, 20, 2, 6, 11, 3, 23, 16, 9, 15, 12, 7, 13, 19, 10, 8, 4, 17, 21, 14, 5, 24, 18, 22, 0]\n",
      "Chromosome 23: Schedule = [13, 16, 0, 4, 17, 24, 12, 2, 19, 8, 6, 15, 21, 22, 10, 14, 9, 11, 20, 1, 7, 3, 23, 5, 18]\n",
      "Chromosome 24: Schedule = [16, 12, 6, 7, 13, 1, 20, 8, 2, 10, 3, 23, 0, 9, 21, 18, 5, 24, 17, 19, 14, 15, 4, 22, 11]\n",
      "Chromosome 25: Schedule = [2, 24, 12, 18, 21, 22, 10, 1, 4, 9, 13, 8, 15, 7, 3, 5, 6, 17, 16, 11, 20, 23, 14, 19, 0]\n",
      "Chromosome 26: Schedule = [23, 1, 10, 9, 5, 16, 24, 19, 20, 15, 0, 2, 17, 11, 12, 6, 7, 4, 13, 22, 21, 18, 14, 8, 3]\n",
      "Chromosome 27: Schedule = [23, 19, 22, 14, 1, 0, 18, 12, 16, 5, 10, 7, 15, 2, 21, 9, 3, 17, 6, 8, 20, 24, 4, 13, 11]\n",
      "Chromosome 28: Schedule = [22, 17, 12, 15, 10, 4, 11, 13, 19, 23, 14, 20, 24, 1, 21, 0, 3, 18, 2, 8, 16, 9, 5, 7, 6]\n",
      "Chromosome 29: Schedule = [11, 6, 15, 17, 19, 22, 21, 2, 7, 4, 10, 13, 8, 9, 20, 16, 14, 5, 3, 1, 0, 18, 23, 12, 24]\n",
      "Chromosome 30: Schedule = [2, 1, 18, 9, 24, 16, 15, 7, 22, 12, 5, 0, 4, 19, 8, 21, 23, 3, 17, 10, 13, 6, 11, 14, 20]\n",
      "Chromosome 31: Schedule = [12, 14, 22, 17, 6, 23, 3, 24, 20, 0, 13, 1, 5, 7, 19, 18, 11, 15, 8, 10, 16, 4, 21, 9, 2]\n",
      "Chromosome 32: Schedule = [5, 18, 0, 2, 23, 19, 9, 20, 12, 1, 6, 10, 17, 13, 16, 14, 4, 21, 3, 24, 8, 11, 22, 15, 7]\n",
      "Chromosome 33: Schedule = [23, 9, 15, 8, 0, 11, 10, 20, 4, 18, 14, 13, 6, 24, 1, 22, 21, 17, 16, 3, 5, 2, 7, 12, 19]\n",
      "Chromosome 34: Schedule = [11, 23, 16, 10, 17, 2, 0, 15, 6, 13, 18, 21, 5, 12, 22, 7, 14, 3, 8, 20, 1, 4, 19, 9, 24]\n",
      "Chromosome 35: Schedule = [18, 22, 19, 11, 13, 23, 6, 8, 16, 5, 15, 12, 10, 9, 1, 21, 14, 4, 7, 0, 2, 17, 24, 20, 3]\n",
      "Chromosome 36: Schedule = [6, 3, 20, 10, 16, 7, 8, 13, 24, 4, 18, 17, 11, 22, 0, 14, 23, 1, 9, 19, 5, 15, 21, 2, 12]\n",
      "Chromosome 37: Schedule = [12, 21, 23, 11, 2, 0, 1, 3, 18, 20, 4, 15, 9, 24, 14, 10, 19, 7, 6, 22, 8, 13, 17, 5, 16]\n",
      "Chromosome 38: Schedule = [1, 8, 21, 6, 0, 16, 10, 2, 18, 24, 22, 11, 19, 12, 5, 4, 9, 3, 17, 15, 14, 23, 7, 20, 13]\n",
      "Chromosome 39: Schedule = [2, 17, 21, 12, 20, 6, 5, 13, 18, 23, 14, 4, 3, 0, 19, 16, 11, 10, 8, 22, 9, 15, 7, 24, 1]\n",
      "Chromosome 40: Schedule = [16, 11, 0, 3, 14, 10, 13, 2, 15, 9, 22, 6, 17, 12, 19, 24, 1, 18, 21, 5, 7, 20, 4, 23, 8]\n",
      "Chromosome 41: Schedule = [11, 23, 15, 16, 24, 17, 7, 2, 6, 0, 1, 14, 22, 13, 21, 12, 8, 10, 20, 3, 9, 18, 4, 5, 19]\n",
      "Chromosome 42: Schedule = [5, 19, 12, 6, 0, 13, 21, 24, 18, 14, 9, 23, 2, 20, 22, 10, 8, 4, 11, 16, 1, 7, 17, 3, 15]\n",
      "Chromosome 43: Schedule = [14, 5, 18, 8, 10, 4, 2, 9, 21, 24, 11, 0, 22, 12, 17, 20, 13, 1, 3, 15, 7, 19, 23, 16, 6]\n",
      "Chromosome 44: Schedule = [6, 14, 7, 10, 19, 4, 22, 0, 21, 3, 2, 20, 16, 12, 15, 24, 11, 1, 9, 18, 23, 17, 8, 5, 13]\n",
      "Chromosome 45: Schedule = [8, 21, 0, 19, 6, 18, 5, 22, 3, 15, 9, 4, 2, 10, 13, 12, 16, 14, 17, 20, 7, 11, 23, 24, 1]\n",
      "Chromosome 46: Schedule = [16, 15, 1, 20, 17, 4, 24, 3, 5, 23, 14, 13, 12, 18, 11, 10, 6, 21, 22, 0, 8, 9, 7, 2, 19]\n",
      "Chromosome 47: Schedule = [19, 20, 12, 9, 8, 4, 17, 2, 18, 21, 15, 5, 22, 1, 11, 0, 14, 24, 3, 6, 23, 13, 10, 16, 7]\n",
      "Chromosome 48: Schedule = [20, 16, 15, 9, 12, 24, 23, 22, 19, 21, 5, 2, 1, 6, 18, 14, 7, 13, 4, 0, 11, 17, 10, 8, 3]\n",
      "Chromosome 49: Schedule = [8, 23, 0, 5, 15, 11, 10, 24, 12, 17, 20, 14, 21, 6, 13, 18, 4, 9, 22, 1, 7, 2, 16, 19, 3]\n",
      "Chromosome 50: Schedule = [1, 4, 9, 18, 0, 22, 8, 12, 13, 20, 11, 23, 16, 2, 7, 19, 17, 14, 6, 5, 21, 3, 15, 24, 10]\n",
      "Chromosome 51: Schedule = [23, 7, 17, 4, 3, 2, 10, 12, 16, 9, 13, 15, 19, 1, 21, 0, 14, 11, 8, 18, 22, 20, 24, 6, 5]\n",
      "Chromosome 52: Schedule = [12, 0, 20, 14, 21, 15, 19, 10, 17, 1, 16, 2, 9, 23, 6, 18, 3, 7, 11, 4, 22, 24, 5, 8, 13]\n",
      "Chromosome 53: Schedule = [11, 20, 9, 21, 14, 2, 5, 3, 16, 22, 4, 7, 0, 13, 17, 18, 23, 10, 1, 15, 24, 8, 12, 6, 19]\n",
      "Chromosome 54: Schedule = [24, 19, 12, 14, 11, 3, 5, 0, 9, 13, 20, 18, 23, 10, 7, 1, 2, 6, 21, 15, 16, 4, 8, 17, 22]\n",
      "Chromosome 55: Schedule = [10, 5, 22, 9, 18, 3, 23, 8, 20, 7, 12, 0, 11, 13, 14, 1, 4, 19, 17, 24, 2, 15, 6, 16, 21]\n",
      "Chromosome 56: Schedule = [5, 18, 7, 2, 9, 3, 14, 13, 10, 19, 17, 11, 20, 12, 16, 0, 15, 23, 24, 6, 1, 22, 21, 4, 8]\n",
      "Chromosome 57: Schedule = [3, 20, 4, 21, 1, 16, 6, 8, 7, 13, 22, 11, 14, 12, 24, 9, 15, 0, 5, 17, 2, 10, 18, 19, 23]\n",
      "Chromosome 58: Schedule = [16, 12, 8, 7, 14, 5, 11, 4, 19, 9, 10, 18, 2, 20, 1, 21, 24, 0, 23, 6, 17, 22, 3, 15, 13]\n",
      "Chromosome 59: Schedule = [24, 17, 13, 16, 8, 22, 3, 7, 0, 19, 23, 10, 18, 6, 2, 14, 20, 5, 11, 1, 21, 9, 15, 4, 12]\n",
      "Chromosome 60: Schedule = [20, 22, 8, 14, 12, 6, 4, 10, 16, 18, 15, 13, 9, 0, 7, 23, 5, 17, 21, 24, 2, 1, 3, 11, 19]\n",
      "Chromosome 61: Schedule = [8, 14, 22, 18, 2, 1, 23, 11, 13, 3, 5, 16, 24, 0, 6, 21, 17, 20, 15, 12, 4, 10, 9, 7, 19]\n",
      "Chromosome 62: Schedule = [22, 8, 23, 1, 12, 14, 16, 2, 20, 5, 11, 4, 13, 17, 18, 9, 0, 15, 6, 24, 19, 10, 21, 7, 3]\n",
      "Chromosome 63: Schedule = [4, 9, 24, 23, 10, 5, 22, 19, 0, 3, 1, 18, 7, 12, 6, 14, 15, 17, 16, 13, 20, 2, 8, 11, 21]\n",
      "Chromosome 64: Schedule = [23, 11, 24, 15, 17, 5, 6, 10, 4, 2, 9, 19, 7, 12, 1, 14, 3, 22, 13, 20, 8, 16, 0, 21, 18]\n",
      "Chromosome 65: Schedule = [23, 20, 10, 0, 8, 15, 7, 9, 5, 14, 12, 18, 2, 3, 19, 6, 4, 16, 1, 11, 24, 21, 17, 13, 22]\n",
      "Chromosome 66: Schedule = [1, 22, 20, 2, 21, 14, 18, 9, 15, 17, 13, 8, 23, 19, 6, 4, 16, 0, 5, 11, 12, 3, 7, 10, 24]\n",
      "Chromosome 67: Schedule = [3, 10, 5, 11, 13, 15, 1, 22, 2, 6, 7, 4, 19, 17, 23, 8, 12, 16, 0, 20, 24, 18, 21, 9, 14]\n",
      "Chromosome 68: Schedule = [0, 15, 13, 6, 19, 17, 23, 7, 2, 24, 12, 9, 14, 5, 16, 21, 10, 22, 4, 3, 1, 8, 18, 20, 11]\n",
      "Chromosome 69: Schedule = [17, 14, 7, 13, 22, 16, 12, 15, 8, 20, 0, 23, 18, 3, 21, 1, 4, 5, 9, 2, 10, 24, 6, 19, 11]\n",
      "Chromosome 70: Schedule = [20, 6, 24, 5, 21, 11, 19, 10, 18, 3, 23, 15, 17, 22, 1, 0, 8, 2, 4, 16, 14, 13, 7, 9, 12]\n",
      "Chromosome 71: Schedule = [24, 23, 12, 3, 15, 17, 4, 10, 22, 7, 0, 13, 5, 14, 16, 1, 21, 20, 6, 9, 2, 8, 11, 19, 18]\n",
      "Chromosome 72: Schedule = [3, 6, 4, 11, 23, 10, 7, 9, 12, 18, 20, 0, 21, 8, 24, 1, 5, 14, 2, 22, 19, 13, 16, 15, 17]\n",
      "Chromosome 73: Schedule = [14, 11, 3, 12, 19, 20, 18, 13, 16, 23, 7, 8, 6, 22, 21, 10, 9, 17, 24, 2, 15, 4, 5, 1, 0]\n",
      "Chromosome 74: Schedule = [2, 4, 6, 19, 15, 16, 13, 17, 9, 5, 1, 21, 7, 0, 8, 18, 24, 3, 20, 23, 12, 10, 11, 22, 14]\n",
      "Chromosome 75: Schedule = [13, 24, 18, 3, 5, 7, 11, 15, 9, 1, 22, 4, 6, 20, 0, 23, 12, 21, 19, 17, 2, 8, 10, 16, 14]\n",
      "Chromosome 76: Schedule = [20, 1, 5, 11, 6, 22, 24, 9, 0, 15, 17, 19, 18, 23, 12, 13, 10, 4, 7, 8, 14, 2, 21, 16, 3]\n",
      "Chromosome 77: Schedule = [8, 23, 4, 7, 5, 20, 17, 9, 22, 3, 24, 2, 1, 0, 15, 11, 12, 10, 14, 6, 13, 18, 16, 19, 21]\n",
      "Chromosome 78: Schedule = [16, 1, 8, 22, 7, 2, 21, 5, 4, 19, 9, 17, 23, 6, 0, 11, 20, 18, 15, 12, 3, 14, 24, 13, 10]\n",
      "Chromosome 79: Schedule = [19, 3, 24, 2, 9, 5, 7, 4, 17, 11, 15, 10, 0, 21, 23, 12, 6, 13, 16, 20, 14, 8, 18, 1, 22]\n",
      "Chromosome 80: Schedule = [9, 7, 19, 21, 8, 6, 14, 15, 2, 20, 4, 3, 1, 22, 24, 18, 10, 5, 23, 13, 12, 11, 0, 16, 17]\n",
      "Chromosome 81: Schedule = [16, 17, 8, 1, 4, 23, 14, 9, 21, 3, 10, 5, 18, 22, 2, 7, 24, 6, 11, 0, 15, 13, 20, 19, 12]\n",
      "Chromosome 82: Schedule = [4, 5, 24, 15, 19, 12, 3, 7, 20, 11, 18, 22, 21, 0, 8, 13, 1, 16, 2, 23, 14, 9, 17, 6, 10]\n",
      "Chromosome 83: Schedule = [7, 16, 14, 5, 19, 22, 20, 17, 15, 3, 6, 9, 13, 24, 21, 10, 1, 0, 12, 8, 18, 2, 11, 4, 23]\n",
      "Chromosome 84: Schedule = [20, 9, 16, 10, 14, 19, 1, 0, 13, 12, 21, 4, 7, 18, 24, 6, 11, 5, 22, 2, 8, 3, 15, 23, 17]\n",
      "Chromosome 85: Schedule = [15, 6, 9, 13, 0, 18, 16, 23, 7, 4, 2, 11, 10, 5, 24, 17, 12, 22, 19, 8, 20, 1, 14, 3, 21]\n",
      "Chromosome 86: Schedule = [19, 23, 24, 15, 20, 4, 2, 22, 12, 8, 7, 16, 17, 1, 0, 9, 10, 6, 13, 14, 18, 11, 21, 5, 3]\n",
      "Chromosome 87: Schedule = [15, 3, 20, 17, 12, 18, 2, 9, 11, 4, 23, 13, 5, 6, 14, 19, 22, 16, 8, 21, 0, 10, 1, 24, 7]\n",
      "Chromosome 88: Schedule = [7, 13, 14, 20, 21, 15, 9, 4, 23, 1, 5, 11, 8, 2, 19, 3, 12, 6, 24, 10, 17, 16, 0, 18, 22]\n",
      "Chromosome 89: Schedule = [4, 6, 19, 3, 22, 23, 10, 8, 18, 21, 7, 0, 9, 20, 2, 15, 11, 24, 1, 13, 17, 16, 5, 12, 14]\n",
      "Chromosome 90: Schedule = [23, 8, 3, 2, 16, 24, 4, 10, 12, 7, 17, 0, 13, 21, 6, 19, 5, 14, 22, 11, 9, 18, 15, 20, 1]\n",
      "Chromosome 91: Schedule = [3, 22, 5, 8, 17, 20, 24, 2, 0, 18, 13, 7, 9, 4, 6, 1, 23, 11, 21, 19, 16, 12, 10, 15, 14]\n",
      "Chromosome 92: Schedule = [0, 22, 1, 24, 13, 15, 16, 20, 10, 17, 4, 11, 8, 9, 19, 18, 3, 6, 21, 23, 12, 14, 7, 5, 2]\n",
      "Chromosome 93: Schedule = [12, 21, 11, 7, 24, 2, 9, 19, 10, 20, 8, 3, 4, 22, 6, 0, 17, 13, 1, 5, 23, 18, 16, 14, 15]\n",
      "Chromosome 94: Schedule = [8, 18, 14, 1, 15, 9, 16, 11, 17, 5, 3, 20, 24, 6, 19, 21, 23, 22, 13, 0, 12, 7, 2, 10, 4]\n",
      "Chromosome 95: Schedule = [3, 18, 9, 11, 23, 5, 22, 8, 19, 12, 13, 14, 6, 4, 2, 10, 0, 1, 15, 20, 24, 16, 7, 17, 21]\n",
      "Chromosome 96: Schedule = [16, 13, 9, 11, 15, 22, 23, 3, 6, 2, 4, 8, 10, 1, 19, 24, 14, 12, 20, 5, 7, 0, 21, 17, 18]\n",
      "Chromosome 97: Schedule = [19, 8, 11, 0, 6, 12, 15, 2, 23, 14, 7, 10, 1, 18, 3, 22, 13, 17, 5, 16, 24, 20, 4, 9, 21]\n",
      "Chromosome 98: Schedule = [23, 8, 12, 5, 9, 20, 24, 7, 17, 1, 2, 10, 0, 22, 14, 18, 16, 13, 6, 21, 4, 15, 11, 3, 19]\n",
      "Chromosome 99: Schedule = [4, 1, 21, 23, 20, 0, 19, 11, 10, 5, 7, 18, 15, 17, 2, 24, 13, 6, 12, 3, 16, 22, 14, 9, 8]\n",
      "Chromosome 100: Schedule = [14, 6, 5, 18, 21, 16, 0, 23, 19, 24, 1, 17, 10, 2, 4, 15, 9, 12, 8, 20, 7, 11, 13, 3, 22]\n",
      "\n",
      "Number of jobs completed: 5, Maximum profit: 190\n"
     ]
    }
   ],
   "source": [
    "id_ = df.iloc[:,0]\n",
    "deadline = df.iloc[:,1]\n",
    "profit = df.iloc[:,2]\n",
    "\n",
    "jobs = [Job(id_[i], deadline[i], profit[i]) for i in range(len(id_))]\n",
    "max_profit, job_count, best_schedule = ga_run(\n",
    "    jobs, \n",
    "    pop_size=100,\n",
    "    generations=500, \n",
    "    mutation_rate=0.35,\n",
    "    tournament_size=10,\n",
    "    selection_method=\"roulette\",\n",
    "    crossover_method=\"pmx\",\n",
    "    mutation_method=\"random_reset\")\n",
    "\n",
    "print(f\"\\nNumber of jobs completed: {job_count}, Maximum profit: {max_profit}\")"
   ]
  },
  {
   "cell_type": "code",
   "execution_count": 5,
   "metadata": {},
   "outputs": [
    {
     "name": "stdout",
     "output_type": "stream",
     "text": [
      "\n",
      "Number of jobs completed: 5, Maximum profit: 190\n",
      "Genetic Algorithm Scheduled Jobs:\n",
      " ['o', 'l', 'e', 'h', 'u']\n"
     ]
    }
   ],
   "source": [
    "print(f\"\\nNumber of jobs completed: {job_count}, Maximum profit: {max_profit}\")\n",
    "print(f\"Genetic Algorithm Scheduled Jobs:\\n {best_schedule}\")"
   ]
  },
  {
   "cell_type": "markdown",
   "metadata": {},
   "source": [
    "### Greedy Comparison\n",
    "To judge the maximum profit output for the genetic algorithm, it will be compared to the output of a greedy algorithm. See the implementation of the algorithm below:"
   ]
  },
  {
   "cell_type": "code",
   "execution_count": 6,
   "metadata": {},
   "outputs": [],
   "source": [
    "def greedy_job_scheduling(jobs):\n",
    "    jobs.sort(key=lambda x: x.profit, reverse=True)\n",
    "    max_deadline = max(job.deadline for job in jobs)\n",
    "    time_slots = [-1] * max_deadline\n",
    "    total_profit = 0\n",
    "    completed_jobs = 0\n",
    "\n",
    "    for job in jobs:\n",
    "        for t in range(job.deadline - 1, -1, -1):\n",
    "            if time_slots[t] == -1:\n",
    "                time_slots[t] = job.id\n",
    "                total_profit += job.profit\n",
    "                completed_jobs += 1\n",
    "                break\n",
    "\n",
    "    print(\"Greedy Algorithm Scheduled Jobs:\\n\", time_slots)\n",
    "    return completed_jobs, total_profit"
   ]
  },
  {
   "cell_type": "code",
   "execution_count": 7,
   "metadata": {},
   "outputs": [
    {
     "name": "stdout",
     "output_type": "stream",
     "text": [
      "Greedy Algorithm Scheduled Jobs:\n",
      " ['w', 'j', 'l', 'u', 'o']\n",
      "\n",
      "Greedy Algorithm:\n",
      " Jobs completed: 5. Maximum profit: 203.\n"
     ]
    }
   ],
   "source": [
    "greedy_jobs, greedy_profit = greedy_job_scheduling(jobs)\n",
    "print(f\"\\nGreedy Algorithm:\\n Jobs completed: {greedy_jobs}. Maximum profit: {greedy_profit}.\")"
   ]
  },
  {
   "cell_type": "markdown",
   "metadata": {},
   "source": [
    "In the output above the optimal sequence of jobs with the maximum possible profit."
   ]
  }
 ],
 "metadata": {
  "kernelspec": {
   "display_name": ".venv",
   "language": "python",
   "name": "python3"
  },
  "language_info": {
   "codemirror_mode": {
    "name": "ipython",
    "version": 3
   },
   "file_extension": ".py",
   "mimetype": "text/x-python",
   "name": "python",
   "nbconvert_exporter": "python",
   "pygments_lexer": "ipython3",
   "version": "3.13.2"
  }
 },
 "nbformat": 4,
 "nbformat_minor": 4
}
