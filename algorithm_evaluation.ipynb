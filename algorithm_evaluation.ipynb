{
 "cells": [
  {
   "cell_type": "code",
   "execution_count": 1,
   "metadata": {},
   "outputs": [
    {
     "name": "stdout",
     "output_type": "stream",
     "text": [
      "Import success\n"
     ]
    }
   ],
   "source": [
    "from genetic import Job, ga_run\n",
    "import pandas as pd"
   ]
  },
  {
   "cell_type": "code",
   "execution_count": 2,
   "metadata": {},
   "outputs": [
    {
     "data": {
      "text/plain": [
       "<bound method NDFrame.head of    a  3  10\n",
       "0  b  2   5\n",
       "1  c  5  10\n",
       "2  d  1  10\n",
       "3  e  3  30\n",
       "4  f  1  20\n",
       "5  g  2  10>"
      ]
     },
     "execution_count": 2,
     "metadata": {},
     "output_type": "execute_result"
    }
   ],
   "source": [
    "#df = pd.read_csv(\"resources/new_example.csv\")\n",
    "df = pd.read_csv(\"resources/example_problems(p2).csv\")\n",
    "\n",
    "df.head"
   ]
  },
  {
   "cell_type": "code",
   "execution_count": 3,
   "metadata": {},
   "outputs": [
    {
     "name": "stdout",
     "output_type": "stream",
     "text": [
      "0    b\n",
      "1    c\n",
      "2    d\n",
      "3    e\n",
      "4    f\n",
      "5    g\n",
      "Name: a, dtype: object\n"
     ]
    }
   ],
   "source": [
    "col1 = df.iloc[:,0]\n",
    "print(col1)"
   ]
  },
  {
   "cell_type": "code",
   "execution_count": 4,
   "metadata": {},
   "outputs": [
    {
     "name": "stdout",
     "output_type": "stream",
     "text": [
      "Initial Population of Chromosomes:\n",
      "Chromosome 1: Schedule = [5, 0, 1, 4, 2, 3]\n",
      "Chromosome 2: Schedule = [1, 0, 2, 5, 4, 3]\n",
      "Chromosome 3: Schedule = [2, 1, 0, 5, 3, 4]\n",
      "Chromosome 4: Schedule = [0, 5, 3, 1, 4, 2]\n",
      "Chromosome 5: Schedule = [4, 2, 1, 0, 3, 5]\n",
      "Chromosome 6: Schedule = [1, 2, 4, 0, 3, 5]\n",
      "Chromosome 7: Schedule = [0, 5, 2, 1, 3, 4]\n",
      "Chromosome 8: Schedule = [4, 2, 1, 0, 5, 3]\n",
      "Chromosome 9: Schedule = [1, 3, 4, 5, 0, 2]\n",
      "Chromosome 10: Schedule = [3, 2, 5, 0, 4, 1]\n",
      "Chromosome 11: Schedule = [5, 3, 4, 2, 0, 1]\n",
      "Chromosome 12: Schedule = [0, 3, 2, 4, 5, 1]\n",
      "Chromosome 13: Schedule = [1, 2, 4, 3, 5, 0]\n",
      "Chromosome 14: Schedule = [1, 2, 5, 4, 0, 3]\n",
      "Chromosome 15: Schedule = [4, 5, 3, 1, 0, 2]\n",
      "Chromosome 16: Schedule = [1, 2, 4, 0, 3, 5]\n",
      "Chromosome 17: Schedule = [5, 0, 4, 2, 1, 3]\n",
      "Chromosome 18: Schedule = [2, 0, 4, 3, 5, 1]\n",
      "Chromosome 19: Schedule = [4, 3, 0, 2, 5, 1]\n",
      "Chromosome 20: Schedule = [2, 5, 1, 0, 4, 3]\n",
      "Chromosome 21: Schedule = [5, 3, 1, 0, 4, 2]\n",
      "Chromosome 22: Schedule = [0, 1, 3, 2, 5, 4]\n",
      "Chromosome 23: Schedule = [3, 2, 0, 1, 5, 4]\n",
      "Chromosome 24: Schedule = [5, 0, 3, 2, 1, 4]\n",
      "Chromosome 25: Schedule = [4, 1, 2, 5, 3, 0]\n",
      "Chromosome 26: Schedule = [5, 1, 0, 4, 2, 3]\n",
      "Chromosome 27: Schedule = [2, 1, 4, 0, 5, 3]\n",
      "Chromosome 28: Schedule = [5, 1, 0, 2, 3, 4]\n",
      "Chromosome 29: Schedule = [2, 3, 5, 4, 1, 0]\n",
      "Chromosome 30: Schedule = [4, 5, 0, 2, 1, 3]\n",
      "Chromosome 31: Schedule = [5, 4, 1, 0, 3, 2]\n",
      "Chromosome 32: Schedule = [2, 0, 3, 4, 5, 1]\n",
      "Chromosome 33: Schedule = [4, 5, 1, 2, 0, 3]\n",
      "Chromosome 34: Schedule = [5, 0, 1, 4, 3, 2]\n",
      "Chromosome 35: Schedule = [0, 2, 1, 4, 3, 5]\n",
      "Chromosome 36: Schedule = [4, 1, 5, 0, 2, 3]\n",
      "Chromosome 37: Schedule = [3, 1, 2, 5, 4, 0]\n",
      "Chromosome 38: Schedule = [4, 3, 5, 0, 1, 2]\n",
      "Chromosome 39: Schedule = [3, 5, 1, 2, 0, 4]\n",
      "Chromosome 40: Schedule = [0, 1, 3, 5, 4, 2]\n",
      "Chromosome 41: Schedule = [0, 4, 3, 5, 1, 2]\n",
      "Chromosome 42: Schedule = [3, 2, 0, 1, 4, 5]\n",
      "Chromosome 43: Schedule = [5, 3, 4, 2, 1, 0]\n",
      "Chromosome 44: Schedule = [0, 2, 4, 5, 1, 3]\n",
      "Chromosome 45: Schedule = [2, 4, 1, 5, 3, 0]\n",
      "Chromosome 46: Schedule = [2, 0, 1, 3, 4, 5]\n",
      "Chromosome 47: Schedule = [1, 3, 5, 4, 2, 0]\n",
      "Chromosome 48: Schedule = [1, 0, 5, 4, 3, 2]\n",
      "Chromosome 49: Schedule = [0, 1, 4, 5, 2, 3]\n",
      "Chromosome 50: Schedule = [3, 1, 0, 5, 2, 4]\n",
      "Chromosome 51: Schedule = [3, 2, 1, 4, 0, 5]\n",
      "Chromosome 52: Schedule = [0, 5, 2, 4, 1, 3]\n",
      "Chromosome 53: Schedule = [1, 3, 2, 0, 4, 5]\n",
      "Chromosome 54: Schedule = [1, 4, 2, 0, 3, 5]\n",
      "Chromosome 55: Schedule = [4, 2, 0, 1, 5, 3]\n",
      "Chromosome 56: Schedule = [1, 5, 2, 3, 0, 4]\n",
      "Chromosome 57: Schedule = [1, 2, 4, 0, 3, 5]\n",
      "Chromosome 58: Schedule = [5, 2, 4, 0, 1, 3]\n",
      "Chromosome 59: Schedule = [1, 5, 3, 0, 2, 4]\n",
      "Chromosome 60: Schedule = [4, 2, 0, 5, 3, 1]\n",
      "Chromosome 61: Schedule = [0, 4, 5, 1, 3, 2]\n",
      "Chromosome 62: Schedule = [3, 1, 4, 0, 2, 5]\n",
      "Chromosome 63: Schedule = [4, 5, 0, 3, 1, 2]\n",
      "Chromosome 64: Schedule = [1, 4, 3, 5, 2, 0]\n",
      "Chromosome 65: Schedule = [0, 5, 4, 3, 2, 1]\n",
      "Chromosome 66: Schedule = [5, 3, 4, 1, 2, 0]\n",
      "Chromosome 67: Schedule = [3, 0, 5, 4, 2, 1]\n",
      "Chromosome 68: Schedule = [5, 0, 1, 4, 2, 3]\n",
      "Chromosome 69: Schedule = [0, 2, 5, 4, 1, 3]\n",
      "Chromosome 70: Schedule = [4, 2, 5, 3, 1, 0]\n",
      "Chromosome 71: Schedule = [5, 0, 3, 2, 1, 4]\n",
      "Chromosome 72: Schedule = [0, 4, 5, 1, 3, 2]\n",
      "Chromosome 73: Schedule = [0, 3, 1, 4, 2, 5]\n",
      "Chromosome 74: Schedule = [1, 5, 4, 0, 2, 3]\n",
      "Chromosome 75: Schedule = [1, 5, 4, 3, 0, 2]\n",
      "Chromosome 76: Schedule = [3, 5, 2, 4, 1, 0]\n",
      "Chromosome 77: Schedule = [4, 0, 2, 1, 3, 5]\n",
      "Chromosome 78: Schedule = [1, 3, 4, 0, 5, 2]\n",
      "Chromosome 79: Schedule = [3, 1, 4, 0, 5, 2]\n",
      "Chromosome 80: Schedule = [5, 0, 2, 1, 4, 3]\n",
      "Chromosome 81: Schedule = [1, 5, 3, 0, 4, 2]\n",
      "Chromosome 82: Schedule = [0, 3, 1, 2, 4, 5]\n",
      "Chromosome 83: Schedule = [1, 0, 2, 3, 5, 4]\n",
      "Chromosome 84: Schedule = [1, 3, 0, 4, 2, 5]\n",
      "Chromosome 85: Schedule = [3, 5, 2, 4, 1, 0]\n",
      "Chromosome 86: Schedule = [0, 4, 3, 2, 5, 1]\n",
      "Chromosome 87: Schedule = [1, 4, 0, 3, 5, 2]\n",
      "Chromosome 88: Schedule = [1, 0, 5, 2, 3, 4]\n",
      "Chromosome 89: Schedule = [2, 3, 1, 5, 4, 0]\n",
      "Chromosome 90: Schedule = [2, 4, 3, 1, 0, 5]\n",
      "Chromosome 91: Schedule = [0, 2, 4, 5, 3, 1]\n",
      "Chromosome 92: Schedule = [3, 5, 2, 0, 1, 4]\n",
      "Chromosome 93: Schedule = [5, 0, 4, 3, 2, 1]\n",
      "Chromosome 94: Schedule = [3, 4, 5, 0, 1, 2]\n",
      "Chromosome 95: Schedule = [2, 5, 1, 0, 4, 3]\n",
      "Chromosome 96: Schedule = [5, 4, 2, 0, 1, 3]\n",
      "Chromosome 97: Schedule = [3, 4, 1, 0, 5, 2]\n",
      "Chromosome 98: Schedule = [0, 2, 5, 1, 4, 3]\n",
      "Chromosome 99: Schedule = [1, 3, 4, 0, 2, 5]\n",
      "Chromosome 100: Schedule = [5, 4, 0, 2, 3, 1]\n"
     ]
    },
    {
     "ename": "UnboundLocalError",
     "evalue": "cannot access local variable 'job' where it is not associated with a value",
     "output_type": "error",
     "traceback": [
      "\u001b[0;31m---------------------------------------------------------------------------\u001b[0m",
      "\u001b[0;31mUnboundLocalError\u001b[0m                         Traceback (most recent call last)",
      "Cell \u001b[0;32mIn[4], line 6\u001b[0m\n\u001b[1;32m      3\u001b[0m profit \u001b[38;5;241m=\u001b[39m df\u001b[38;5;241m.\u001b[39miloc[:,\u001b[38;5;241m2\u001b[39m]\n\u001b[1;32m      5\u001b[0m jobs \u001b[38;5;241m=\u001b[39m [Job(id_[i], deadline[i], profit[i]) \u001b[38;5;28;01mfor\u001b[39;00m i \u001b[38;5;129;01min\u001b[39;00m \u001b[38;5;28mrange\u001b[39m(\u001b[38;5;28mlen\u001b[39m(id_))]\n\u001b[0;32m----> 6\u001b[0m max_profit, job_count, best_schedule \u001b[38;5;241m=\u001b[39m \u001b[43mga_run\u001b[49m\u001b[43m(\u001b[49m\n\u001b[1;32m      7\u001b[0m \u001b[43m    \u001b[49m\u001b[43mjobs\u001b[49m\u001b[43m,\u001b[49m\u001b[43m \u001b[49m\n\u001b[1;32m      8\u001b[0m \u001b[43m    \u001b[49m\u001b[43mpop_size\u001b[49m\u001b[38;5;241;43m=\u001b[39;49m\u001b[38;5;241;43m100\u001b[39;49m\u001b[43m,\u001b[49m\n\u001b[1;32m      9\u001b[0m \u001b[43m    \u001b[49m\u001b[43mgenerations\u001b[49m\u001b[38;5;241;43m=\u001b[39;49m\u001b[38;5;241;43m500\u001b[39;49m\u001b[43m,\u001b[49m\u001b[43m \u001b[49m\n\u001b[1;32m     10\u001b[0m \u001b[43m    \u001b[49m\u001b[43mmutation_rate\u001b[49m\u001b[38;5;241;43m=\u001b[39;49m\u001b[38;5;241;43m0.35\u001b[39;49m\u001b[43m,\u001b[49m\n\u001b[1;32m     11\u001b[0m \u001b[43m    \u001b[49m\u001b[43mtournament_size\u001b[49m\u001b[38;5;241;43m=\u001b[39;49m\u001b[38;5;241;43m10\u001b[39;49m\u001b[43m,\u001b[49m\n\u001b[1;32m     12\u001b[0m \u001b[43m    \u001b[49m\u001b[43mselection_method\u001b[49m\u001b[38;5;241;43m=\u001b[39;49m\u001b[38;5;124;43m\"\u001b[39;49m\u001b[38;5;124;43mroulette\u001b[39;49m\u001b[38;5;124;43m\"\u001b[39;49m\u001b[43m,\u001b[49m\n\u001b[1;32m     13\u001b[0m \u001b[43m    \u001b[49m\u001b[43mcrossover_method\u001b[49m\u001b[38;5;241;43m=\u001b[39;49m\u001b[38;5;124;43m\"\u001b[39;49m\u001b[38;5;124;43mpmx\u001b[39;49m\u001b[38;5;124;43m\"\u001b[39;49m\u001b[43m,\u001b[49m\n\u001b[1;32m     14\u001b[0m \u001b[43m    \u001b[49m\u001b[43mmutation_method\u001b[49m\u001b[38;5;241;43m=\u001b[39;49m\u001b[38;5;124;43m\"\u001b[39;49m\u001b[38;5;124;43mrandom_reset\u001b[39;49m\u001b[38;5;124;43m\"\u001b[39;49m\u001b[43m)\u001b[49m\n\u001b[1;32m     16\u001b[0m \u001b[38;5;28mprint\u001b[39m(\u001b[38;5;124mf\u001b[39m\u001b[38;5;124m\"\u001b[39m\u001b[38;5;130;01m\\n\u001b[39;00m\u001b[38;5;124mNumber of jobs completed: \u001b[39m\u001b[38;5;132;01m{\u001b[39;00mjob_count\u001b[38;5;132;01m}\u001b[39;00m\u001b[38;5;124m, Maximum profit: \u001b[39m\u001b[38;5;132;01m{\u001b[39;00mmax_profit\u001b[38;5;132;01m}\u001b[39;00m\u001b[38;5;124m\"\u001b[39m)\n",
      "File \u001b[0;32m~/Documents/ai/genetic.py:206\u001b[0m, in \u001b[0;36mga_run\u001b[0;34m(jobs, pop_size, generations, mutation_rate, tournament_size, selection_method, crossover_method, mutation_method)\u001b[0m\n\u001b[1;32m    203\u001b[0m pop\u001b[38;5;241m.\u001b[39mprint_chromosomes()\n\u001b[1;32m    205\u001b[0m \u001b[38;5;28;01mfor\u001b[39;00m i \u001b[38;5;129;01min\u001b[39;00m \u001b[38;5;28mrange\u001b[39m(generations):\n\u001b[0;32m--> 206\u001b[0m     \u001b[43mpop\u001b[49m\u001b[38;5;241;43m.\u001b[39;49m\u001b[43mevaluate\u001b[49m\u001b[43m(\u001b[49m\u001b[43m)\u001b[49m\n\u001b[1;32m    207\u001b[0m     top_agent \u001b[38;5;241m=\u001b[39m \u001b[38;5;28mmax\u001b[39m(pop\u001b[38;5;241m.\u001b[39magents, key\u001b[38;5;241m=\u001b[39m\u001b[38;5;28;01mlambda\u001b[39;00m a: a\u001b[38;5;241m.\u001b[39mfitness)\n\u001b[1;32m    208\u001b[0m     max_profit, job_count, best_schedule \u001b[38;5;241m=\u001b[39m fitness(top_agent\u001b[38;5;241m.\u001b[39mschedule, jobs)\n",
      "File \u001b[0;32m~/Documents/ai/genetic.py:55\u001b[0m, in \u001b[0;36mPopulation.evaluate\u001b[0;34m(self)\u001b[0m\n\u001b[1;32m     53\u001b[0m \u001b[38;5;28;01mdef\u001b[39;00m\u001b[38;5;250m \u001b[39m\u001b[38;5;21mevaluate\u001b[39m(\u001b[38;5;28mself\u001b[39m):\n\u001b[1;32m     54\u001b[0m     \u001b[38;5;28;01mfor\u001b[39;00m agent \u001b[38;5;129;01min\u001b[39;00m \u001b[38;5;28mself\u001b[39m\u001b[38;5;241m.\u001b[39magents:\n\u001b[0;32m---> 55\u001b[0m         agent\u001b[38;5;241m.\u001b[39mfitness, _, _ \u001b[38;5;241m=\u001b[39m \u001b[43mfitness\u001b[49m\u001b[43m(\u001b[49m\u001b[43magent\u001b[49m\u001b[38;5;241;43m.\u001b[39;49m\u001b[43mschedule\u001b[49m\u001b[43m,\u001b[49m\u001b[43m \u001b[49m\u001b[38;5;28;43mself\u001b[39;49m\u001b[38;5;241;43m.\u001b[39;49m\u001b[43mjobs\u001b[49m\u001b[43m)\u001b[49m\n\u001b[1;32m     56\u001b[0m     \u001b[38;5;28mself\u001b[39m\u001b[38;5;241m.\u001b[39magents\u001b[38;5;241m.\u001b[39msort(key\u001b[38;5;241m=\u001b[39m\u001b[38;5;28;01mlambda\u001b[39;00m a: a\u001b[38;5;241m.\u001b[39mfitness, reverse\u001b[38;5;241m=\u001b[39m\u001b[38;5;28;01mTrue\u001b[39;00m)\n",
      "File \u001b[0;32m~/Documents/ai/genetic.py:15\u001b[0m, in \u001b[0;36mfitness\u001b[0;34m(schedule, jobs)\u001b[0m\n\u001b[1;32m     13\u001b[0m \u001b[38;5;66;03m# print(\"\\nJob Placement Process:\")\u001b[39;00m\n\u001b[1;32m     14\u001b[0m \u001b[38;5;28;01mfor\u001b[39;00m job_id \u001b[38;5;129;01min\u001b[39;00m schedule:\n\u001b[0;32m---> 15\u001b[0m     \u001b[38;5;28;01mif\u001b[39;00m \u001b[43mjob\u001b[49m \u001b[38;5;129;01mnot\u001b[39;00m \u001b[38;5;129;01min\u001b[39;00m unique_jobs:\n\u001b[1;32m     16\u001b[0m         \u001b[38;5;28;01mcontinue\u001b[39;00m\n\u001b[1;32m     18\u001b[0m     job \u001b[38;5;241m=\u001b[39m jobs[job_id]\n",
      "\u001b[0;31mUnboundLocalError\u001b[0m: cannot access local variable 'job' where it is not associated with a value"
     ]
    }
   ],
   "source": [
    "id_ = df.iloc[:,0]\n",
    "deadline = df.iloc[:,1]\n",
    "profit = df.iloc[:,2]\n",
    "\n",
    "jobs = [Job(id_[i], deadline[i], profit[i]) for i in range(len(id_))]\n",
    "max_profit, job_count, best_schedule = ga_run(\n",
    "    jobs, \n",
    "    pop_size=100,\n",
    "    generations=500, \n",
    "    mutation_rate=0.35,\n",
    "    tournament_size=10,\n",
    "    selection_method=\"roulette\",\n",
    "    crossover_method=\"pmx\",\n",
    "    mutation_method=\"random_reset\")\n",
    "\n",
    "print(f\"\\nNumber of jobs completed: {job_count}, Maximum profit: {max_profit}\")"
   ]
  },
  {
   "cell_type": "code",
   "execution_count": null,
   "metadata": {},
   "outputs": [
    {
     "name": "stdout",
     "output_type": "stream",
     "text": [
      "\n",
      "Number of jobs completed: 4, Maximum profit: 100\n",
      "Genetic Algorithm Scheduled Jobs:\n",
      " ['e', 'e', 'e', 'c']\n"
     ]
    }
   ],
   "source": [
    "print(f\"\\nNumber of jobs completed: {job_count}, Maximum profit: {max_profit}\")\n",
    "print(f\"Genetic Algorithm Scheduled Jobs:\\n {best_schedule}\")"
   ]
  },
  {
   "cell_type": "markdown",
   "metadata": {},
   "source": [
    "### Greedy Comparison\n",
    "To judge the maximum profit output for the genetic algorithm, it will be compared to the output of a greedy algorithm. See the implementation of the algorithm below:"
   ]
  },
  {
   "cell_type": "code",
   "execution_count": null,
   "metadata": {},
   "outputs": [],
   "source": [
    "def greedy_job_scheduling(jobs):\n",
    "    jobs.sort(key=lambda x: x.profit, reverse=True)\n",
    "    max_deadline = max(job.deadline for job in jobs)\n",
    "    time_slots = [-1] * max_deadline\n",
    "    total_profit = 0\n",
    "    completed_jobs = 0\n",
    "\n",
    "    for job in jobs:\n",
    "        for t in range(job.deadline - 1, -1, -1):\n",
    "            if time_slots[t] == -1:\n",
    "                time_slots[t] = job.id\n",
    "                total_profit += job.profit\n",
    "                completed_jobs += 1\n",
    "                break\n",
    "\n",
    "    print(\"Greedy Algorithm Scheduled Jobs:\\n\", time_slots)\n",
    "    return completed_jobs, total_profit"
   ]
  },
  {
   "cell_type": "code",
   "execution_count": null,
   "metadata": {},
   "outputs": [
    {
     "name": "stdout",
     "output_type": "stream",
     "text": [
      "Greedy Algorithm Scheduled Jobs:\n",
      " ['f', 'g', 'e', -1, 'c']\n",
      "\n",
      "Greedy Algorithm:\n",
      " Jobs completed: 4. Maximum profit: 70.\n"
     ]
    }
   ],
   "source": [
    "greedy_jobs, greedy_profit = greedy_job_scheduling(jobs)\n",
    "print(f\"\\nGreedy Algorithm:\\n Jobs completed: {greedy_jobs}. Maximum profit: {greedy_profit}.\")"
   ]
  },
  {
   "cell_type": "markdown",
   "metadata": {},
   "source": [
    "In the output above the optimal sequence of jobs with the maximum possible profit."
   ]
  }
 ],
 "metadata": {
  "kernelspec": {
   "display_name": ".venv",
   "language": "python",
   "name": "python3"
  },
  "language_info": {
   "codemirror_mode": {
    "name": "ipython",
    "version": 3
   },
   "file_extension": ".py",
   "mimetype": "text/x-python",
   "name": "python",
   "nbconvert_exporter": "python",
   "pygments_lexer": "ipython3",
   "version": "3.13.2"
  }
 },
 "nbformat": 4,
 "nbformat_minor": 4
}
