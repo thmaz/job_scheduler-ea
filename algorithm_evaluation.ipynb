{
 "cells": [
  {
   "cell_type": "code",
   "execution_count": 1,
   "metadata": {},
   "outputs": [
    {
     "name": "stdout",
     "output_type": "stream",
     "text": [
      "Import success\n"
     ]
    }
   ],
   "source": [
    "from genetic import Job, ga_run\n",
    "import pandas as pd"
   ]
  },
  {
   "cell_type": "code",
   "execution_count": 2,
   "metadata": {},
   "outputs": [
    {
     "data": {
      "text/plain": [
       "<bound method NDFrame.head of     a  3  10\n",
       "0   b  2   5\n",
       "1   c  5  10\n",
       "2   d  1  10\n",
       "3   e  3  30\n",
       "4   f  1  20\n",
       "5   g  2  10\n",
       "6   h  4  25\n",
       "7   i  2  15\n",
       "8   j  3  35\n",
       "9   k  1   5\n",
       "10  l  4  40\n",
       "11  m  2  20\n",
       "12  n  3  15\n",
       "13  o  5  50\n",
       "14  p  1  30\n",
       "15  q  2  12\n",
       "16  r  4  22\n",
       "17  s  3  18\n",
       "18  t  1   8\n",
       "19  u  5  45\n",
       "20  v  2  28\n",
       "21  w  3  33\n",
       "22  x  4  12\n",
       "23  y  1   7\n",
       "24  z  2   9>"
      ]
     },
     "execution_count": 2,
     "metadata": {},
     "output_type": "execute_result"
    }
   ],
   "source": [
    "df = pd.read_csv(\"resources/new_example.csv\")\n",
    "#df = pd.read_csv(\"resources/example_problems(p2).csv\")\n",
    "\n",
    "df.head"
   ]
  },
  {
   "cell_type": "code",
   "execution_count": 3,
   "metadata": {},
   "outputs": [
    {
     "name": "stdout",
     "output_type": "stream",
     "text": [
      "0     b\n",
      "1     c\n",
      "2     d\n",
      "3     e\n",
      "4     f\n",
      "5     g\n",
      "6     h\n",
      "7     i\n",
      "8     j\n",
      "9     k\n",
      "10    l\n",
      "11    m\n",
      "12    n\n",
      "13    o\n",
      "14    p\n",
      "15    q\n",
      "16    r\n",
      "17    s\n",
      "18    t\n",
      "19    u\n",
      "20    v\n",
      "21    w\n",
      "22    x\n",
      "23    y\n",
      "24    z\n",
      "Name: a, dtype: object\n"
     ]
    }
   ],
   "source": [
    "col1 = df.iloc[:,0]\n",
    "print(col1)"
   ]
  },
  {
   "cell_type": "code",
   "execution_count": 4,
   "metadata": {},
   "outputs": [
    {
     "name": "stdout",
     "output_type": "stream",
     "text": [
      "Initial Population of Chromosomes:\n",
      "Chromosome 1: Schedule = [21, 13, 19, 3, 9, 18, 2, 16, 7, 14, 22, 10, 4, 8, 6, 17, 12, 0, 23, 20, 5, 1, 24, 15, 11]\n",
      "Chromosome 2: Schedule = [7, 10, 16, 4, 11, 18, 20, 5, 24, 17, 23, 2, 22, 1, 8, 19, 12, 9, 14, 3, 6, 21, 0, 15, 13]\n",
      "Chromosome 3: Schedule = [13, 12, 22, 19, 1, 16, 7, 17, 4, 8, 23, 15, 20, 2, 10, 3, 24, 0, 14, 21, 11, 18, 6, 5, 9]\n",
      "Chromosome 4: Schedule = [3, 8, 19, 22, 18, 23, 11, 10, 20, 9, 17, 13, 7, 21, 24, 16, 12, 1, 6, 15, 2, 0, 4, 14, 5]\n",
      "Chromosome 5: Schedule = [15, 16, 0, 10, 1, 3, 21, 11, 19, 24, 2, 23, 13, 14, 9, 12, 4, 17, 7, 8, 5, 22, 6, 20, 18]\n",
      "Chromosome 6: Schedule = [22, 14, 12, 16, 5, 3, 11, 24, 6, 8, 1, 19, 20, 9, 21, 17, 4, 0, 23, 13, 2, 18, 15, 10, 7]\n",
      "Chromosome 7: Schedule = [11, 16, 5, 21, 22, 1, 18, 20, 23, 17, 10, 2, 7, 9, 12, 3, 6, 0, 19, 8, 24, 14, 13, 15, 4]\n",
      "Chromosome 8: Schedule = [14, 12, 1, 10, 5, 20, 9, 8, 23, 17, 3, 24, 4, 21, 7, 22, 19, 18, 6, 2, 11, 15, 13, 16, 0]\n",
      "Chromosome 9: Schedule = [22, 3, 13, 6, 0, 15, 4, 9, 8, 1, 18, 10, 5, 24, 20, 14, 17, 2, 12, 23, 11, 21, 7, 16, 19]\n",
      "Chromosome 10: Schedule = [2, 5, 21, 18, 8, 16, 3, 12, 19, 6, 23, 10, 20, 0, 13, 1, 11, 17, 7, 14, 9, 4, 24, 22, 15]\n",
      "Chromosome 11: Schedule = [15, 14, 20, 13, 23, 17, 1, 24, 18, 19, 3, 2, 6, 8, 11, 7, 16, 0, 10, 22, 4, 12, 5, 21, 9]\n",
      "Chromosome 12: Schedule = [7, 8, 17, 6, 0, 14, 16, 21, 18, 12, 9, 2, 22, 1, 24, 5, 20, 11, 15, 23, 13, 4, 19, 3, 10]\n",
      "Chromosome 13: Schedule = [19, 9, 5, 6, 22, 10, 7, 2, 21, 0, 12, 24, 11, 16, 23, 18, 8, 13, 15, 3, 4, 17, 14, 20, 1]\n",
      "Chromosome 14: Schedule = [4, 21, 9, 12, 13, 6, 2, 5, 17, 19, 22, 10, 8, 0, 18, 20, 14, 15, 24, 3, 11, 1, 23, 16, 7]\n",
      "Chromosome 15: Schedule = [24, 6, 2, 20, 7, 19, 11, 8, 15, 3, 5, 13, 18, 17, 16, 10, 0, 9, 21, 23, 14, 1, 22, 4, 12]\n",
      "Chromosome 16: Schedule = [24, 13, 1, 17, 7, 16, 14, 19, 18, 0, 23, 9, 8, 22, 10, 6, 3, 20, 5, 2, 4, 11, 15, 12, 21]\n",
      "Chromosome 17: Schedule = [23, 22, 21, 1, 0, 4, 5, 8, 15, 2, 9, 17, 6, 13, 16, 18, 19, 14, 20, 12, 11, 3, 10, 7, 24]\n",
      "Chromosome 18: Schedule = [4, 15, 0, 12, 13, 22, 24, 17, 19, 16, 8, 2, 11, 14, 9, 7, 5, 6, 23, 18, 10, 3, 20, 1, 21]\n",
      "Chromosome 19: Schedule = [22, 24, 15, 19, 16, 6, 17, 4, 0, 21, 1, 20, 5, 7, 10, 2, 23, 8, 14, 18, 13, 3, 9, 12, 11]\n",
      "Chromosome 20: Schedule = [16, 9, 13, 15, 19, 12, 8, 24, 14, 10, 4, 3, 11, 23, 6, 22, 20, 2, 17, 5, 21, 7, 0, 1, 18]\n"
     ]
    },
    {
     "ename": "KeyboardInterrupt",
     "evalue": "",
     "output_type": "error",
     "traceback": [
      "\u001b[31m---------------------------------------------------------------------------\u001b[39m",
      "\u001b[31mKeyboardInterrupt\u001b[39m                         Traceback (most recent call last)",
      "\u001b[36mCell\u001b[39m\u001b[36m \u001b[39m\u001b[32mIn[4]\u001b[39m\u001b[32m, line 6\u001b[39m\n\u001b[32m      3\u001b[39m profit = df.iloc[:,\u001b[32m2\u001b[39m]\n\u001b[32m      5\u001b[39m jobs = [Job(id_[i], deadline[i], profit[i]) \u001b[38;5;28;01mfor\u001b[39;00m i \u001b[38;5;129;01min\u001b[39;00m \u001b[38;5;28mrange\u001b[39m(\u001b[38;5;28mlen\u001b[39m(id_))]\n\u001b[32m----> \u001b[39m\u001b[32m6\u001b[39m max_profit, job_count = \u001b[43mga_run\u001b[49m\u001b[43m(\u001b[49m\n\u001b[32m      7\u001b[39m \u001b[43m    \u001b[49m\u001b[43mjobs\u001b[49m\u001b[43m,\u001b[49m\u001b[43m \u001b[49m\n\u001b[32m      8\u001b[39m \u001b[43m    \u001b[49m\u001b[43mpop_size\u001b[49m\u001b[43m=\u001b[49m\u001b[32;43m20\u001b[39;49m\u001b[43m,\u001b[49m\n\u001b[32m      9\u001b[39m \u001b[43m    \u001b[49m\u001b[43mgenerations\u001b[49m\u001b[43m=\u001b[49m\u001b[32;43m50\u001b[39;49m\u001b[43m,\u001b[49m\u001b[43m \u001b[49m\n\u001b[32m     10\u001b[39m \u001b[43m    \u001b[49m\u001b[43mmutation_rate\u001b[49m\u001b[43m=\u001b[49m\u001b[32;43m0.15\u001b[39;49m\u001b[43m,\u001b[49m\n\u001b[32m     11\u001b[39m \u001b[43m    \u001b[49m\u001b[43mtournament_size\u001b[49m\u001b[43m=\u001b[49m\u001b[32;43m4\u001b[39;49m\u001b[43m,\u001b[49m\n\u001b[32m     12\u001b[39m \u001b[43m    \u001b[49m\u001b[43mselection_method\u001b[49m\u001b[43m=\u001b[49m\u001b[33;43m\"\u001b[39;49m\u001b[33;43mroulette\u001b[39;49m\u001b[33;43m\"\u001b[39;49m\u001b[43m,\u001b[49m\n\u001b[32m     13\u001b[39m \u001b[43m    \u001b[49m\u001b[43mcrossover_method\u001b[49m\u001b[43m=\u001b[49m\u001b[33;43m\"\u001b[39;49m\u001b[33;43mpmx\u001b[39;49m\u001b[33;43m\"\u001b[39;49m\u001b[43m,\u001b[49m\n\u001b[32m     14\u001b[39m \u001b[43m    \u001b[49m\u001b[43mmutation_method\u001b[49m\u001b[43m=\u001b[49m\u001b[33;43m\"\u001b[39;49m\u001b[33;43mrandom_reset\u001b[39;49m\u001b[33;43m\"\u001b[39;49m\u001b[43m)\u001b[49m\n\u001b[32m     16\u001b[39m \u001b[38;5;28mprint\u001b[39m(\u001b[33mf\u001b[39m\u001b[33m\"\u001b[39m\u001b[38;5;130;01m\\n\u001b[39;00m\u001b[33mNumber of jobs completed: \u001b[39m\u001b[38;5;132;01m{\u001b[39;00mjob_count\u001b[38;5;132;01m}\u001b[39;00m\u001b[33m, Maximum profit: \u001b[39m\u001b[38;5;132;01m{\u001b[39;00mmax_profit\u001b[38;5;132;01m}\u001b[39;00m\u001b[33m\"\u001b[39m)\n",
      "\u001b[36mFile \u001b[39m\u001b[32m~/Documents/school/ai/genetic.py:190\u001b[39m, in \u001b[36mga_run\u001b[39m\u001b[34m(jobs, pop_size, generations, mutation_rate, tournament_size, selection_method, crossover_method, mutation_method)\u001b[39m\n\u001b[32m    186\u001b[39m max_profit, job_count = fitness(top_agent.schedule, jobs)\n\u001b[32m    188\u001b[39m \u001b[38;5;66;03m# Print the best agent's details for the current generation\u001b[39;00m\n\u001b[32m    189\u001b[39m \u001b[38;5;66;03m# print(f\"Generation {i}: Best agent - Jobs completed: {job_count}, Maximum profit: {max_profit}\")\u001b[39;00m\n\u001b[32m--> \u001b[39m\u001b[32m190\u001b[39m new_pop = \u001b[43mpop\u001b[49m\u001b[43m.\u001b[49m\u001b[43mcross_over\u001b[49m\u001b[43m(\u001b[49m\u001b[43mtournament_size\u001b[49m\u001b[43m,\u001b[49m\u001b[43m \u001b[49m\u001b[43mcrossover_method\u001b[49m\u001b[43m)\u001b[49m\n\u001b[32m    191\u001b[39m new_pop.mutate(mutation_rate, mutation_method)\n\u001b[32m    192\u001b[39m pop = new_pop\n",
      "\u001b[36mFile \u001b[39m\u001b[32m~/Documents/school/ai/genetic.py:93\u001b[39m, in \u001b[36mPopulation.cross_over\u001b[39m\u001b[34m(self, tournament_size, crossover_method)\u001b[39m\n\u001b[32m     91\u001b[39m     child_schedule = \u001b[38;5;28mself\u001b[39m.order_crossover(parent1.schedule, parent2.schedule)\n\u001b[32m     92\u001b[39m \u001b[38;5;28;01melif\u001b[39;00m crossover_method == \u001b[33m\"\u001b[39m\u001b[33mpmx\u001b[39m\u001b[33m\"\u001b[39m:\n\u001b[32m---> \u001b[39m\u001b[32m93\u001b[39m     child_schedule = \u001b[38;5;28;43mself\u001b[39;49m\u001b[43m.\u001b[49m\u001b[43mpm_crossover\u001b[49m\u001b[43m(\u001b[49m\u001b[43mparent1\u001b[49m\u001b[43m.\u001b[49m\u001b[43mschedule\u001b[49m\u001b[43m,\u001b[49m\u001b[43m \u001b[49m\u001b[43mparent2\u001b[49m\u001b[43m.\u001b[49m\u001b[43mschedule\u001b[49m\u001b[43m)\u001b[49m\n\u001b[32m     94\u001b[39m \u001b[38;5;28;01melse\u001b[39;00m:\n\u001b[32m     95\u001b[39m     \u001b[38;5;28;01mraise\u001b[39;00m \u001b[38;5;167;01mValueError\u001b[39;00m(\u001b[33m\"\u001b[39m\u001b[33mMethod Invalid! Choose from: \u001b[39m\u001b[33m'\u001b[39m\u001b[33mpmx\u001b[39m\u001b[33m'\u001b[39m\u001b[33m or \u001b[39m\u001b[33m'\u001b[39m\u001b[33morder\u001b[39m\u001b[33m'\u001b[39m\u001b[33m\"\u001b[39m)\n",
      "\u001b[36mFile \u001b[39m\u001b[32m~/Documents/school/ai/genetic.py:136\u001b[39m, in \u001b[36mPopulation.pm_crossover\u001b[39m\u001b[34m(self, p1, p2)\u001b[39m\n\u001b[32m    134\u001b[39m     \u001b[38;5;28;01mcontinue\u001b[39;00m\n\u001b[32m    135\u001b[39m val = p2[i]\n\u001b[32m--> \u001b[39m\u001b[32m136\u001b[39m \u001b[38;5;28;01mwhile\u001b[39;00m val \u001b[38;5;129;01min\u001b[39;00m mapping:\n\u001b[32m    137\u001b[39m     val = mapping[val]\n\u001b[32m    138\u001b[39m child[i] = val\n",
      "\u001b[31mKeyboardInterrupt\u001b[39m: "
     ]
    }
   ],
   "source": [
    "id_ = df.iloc[:,0]\n",
    "deadline = df.iloc[:,1]\n",
    "profit = df.iloc[:,2]\n",
    "\n",
    "jobs = [Job(id_[i], deadline[i], profit[i]) for i in range(len(id_))]\n",
    "max_profit, job_count = ga_run(\n",
    "    jobs, \n",
    "    pop_size=20,\n",
    "    generations=50, \n",
    "    mutation_rate=0.15,\n",
    "    tournament_size=4,\n",
    "    selection_method=\"roulette\",\n",
    "    crossover_method=\"pmx\",\n",
    "    mutation_method=\"random_reset\")\n",
    "\n",
    "print(f\"\\nNumber of jobs completed: {job_count}, Maximum profit: {max_profit}\")"
   ]
  },
  {
   "cell_type": "markdown",
   "metadata": {},
   "source": [
    "### Greedy Comparison\n",
    "To judge the maximum profit output for the genetic algorithm, it will be compared to the output of a greedy algorithm. See the implementation of the algorithm below:"
   ]
  },
  {
   "cell_type": "code",
   "execution_count": null,
   "metadata": {},
   "outputs": [],
   "source": [
    "def greedy_job_scheduling(jobs):\n",
    "    jobs.sort(key=lambda x: x.profit, reverse=True)\n",
    "    max_deadline = max(job.deadline for job in jobs)\n",
    "    time_slots = [-1] * max_deadline\n",
    "    total_profit = 0\n",
    "    completed_jobs = 0\n",
    "\n",
    "    for job in jobs:\n",
    "        for t in range(job.deadline - 1, -1, -1):\n",
    "            if time_slots[t] == -1:\n",
    "                time_slots[t] = job.id\n",
    "                total_profit += job.profit\n",
    "                completed_jobs += 1\n",
    "                break\n",
    "\n",
    "    print(\"\\nGreedy Algorithm Scheduled Jobs:\", time_slots)\n",
    "    return completed_jobs, total_profit"
   ]
  },
  {
   "cell_type": "code",
   "execution_count": null,
   "metadata": {},
   "outputs": [],
   "source": [
    "greedy_jobs, greedy_profit = greedy_job_scheduling(jobs)\n",
    "print(f\"Greedy Algorithm - Jobs completed: {greedy_jobs}, Maximum profit: {greedy_profit}\")"
   ]
  },
  {
   "cell_type": "markdown",
   "metadata": {},
   "source": [
    "In the output above the optimal sequence of jobs with the maximum possible profit."
   ]
  }
 ],
 "metadata": {
  "kernelspec": {
   "display_name": ".venv",
   "language": "python",
   "name": "python3"
  },
  "language_info": {
   "codemirror_mode": {
    "name": "ipython",
    "version": 3
   },
   "file_extension": ".py",
   "mimetype": "text/x-python",
   "name": "python",
   "nbconvert_exporter": "python",
   "pygments_lexer": "ipython3",
   "version": "3.13.2"
  }
 },
 "nbformat": 4,
 "nbformat_minor": 4
}
