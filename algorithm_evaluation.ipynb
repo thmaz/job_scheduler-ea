{
 "cells": [
  {
   "cell_type": "code",
   "execution_count": 1,
   "metadata": {},
   "outputs": [
    {
     "name": "stdout",
     "output_type": "stream",
     "text": [
      "Import success\n"
     ]
    }
   ],
   "source": [
    "from genetic import Job, ga_run\n",
    "import pandas as pd"
   ]
  },
  {
   "cell_type": "code",
   "execution_count": 2,
   "metadata": {},
   "outputs": [
    {
     "data": {
      "text/plain": [
       "<bound method NDFrame.head of     a  3  10\n",
       "0   b  2   5\n",
       "1   c  5  10\n",
       "2   d  1  10\n",
       "3   e  3  30\n",
       "4   f  1  20\n",
       "5   g  2  10\n",
       "6   h  4  25\n",
       "7   i  2  15\n",
       "8   j  3  35\n",
       "9   k  1   5\n",
       "10  l  4  40\n",
       "11  m  2  20\n",
       "12  n  3  15\n",
       "13  o  5  50\n",
       "14  p  1  30\n",
       "15  q  2  12\n",
       "16  r  4  22\n",
       "17  s  3  18\n",
       "18  t  1   8\n",
       "19  u  5  45\n",
       "20  v  2  28\n",
       "21  w  3  33\n",
       "22  x  4  12\n",
       "23  y  1   7\n",
       "24  z  2   9>"
      ]
     },
     "execution_count": 2,
     "metadata": {},
     "output_type": "execute_result"
    }
   ],
   "source": [
    "df = pd.read_csv(\"resources/new_example.csv\")\n",
    "#df = pd.read_csv(\"resources/example_problems(p2).csv\")\n",
    "\n",
    "df.head"
   ]
  },
  {
   "cell_type": "code",
   "execution_count": 3,
   "metadata": {},
   "outputs": [
    {
     "name": "stdout",
     "output_type": "stream",
     "text": [
      "0     b\n",
      "1     c\n",
      "2     d\n",
      "3     e\n",
      "4     f\n",
      "5     g\n",
      "6     h\n",
      "7     i\n",
      "8     j\n",
      "9     k\n",
      "10    l\n",
      "11    m\n",
      "12    n\n",
      "13    o\n",
      "14    p\n",
      "15    q\n",
      "16    r\n",
      "17    s\n",
      "18    t\n",
      "19    u\n",
      "20    v\n",
      "21    w\n",
      "22    x\n",
      "23    y\n",
      "24    z\n",
      "Name: a, dtype: object\n"
     ]
    }
   ],
   "source": [
    "col1 = df.iloc[:,0]\n",
    "print(col1)"
   ]
  },
  {
   "cell_type": "code",
   "execution_count": 4,
   "metadata": {},
   "outputs": [
    {
     "name": "stdout",
     "output_type": "stream",
     "text": [
      "Initial Population of Chromosomes:\n",
      "Chromosome 1: Schedule = [14, 8, 21, 9, 7, 6, 5, 3, 18, 19, 2, 23, 11, 22, 12, 13, 4, 0, 17, 15, 20, 16, 24, 1, 10]\n",
      "Chromosome 2: Schedule = [15, 6, 8, 14, 0, 12, 1, 19, 24, 20, 9, 4, 7, 21, 10, 13, 18, 3, 22, 5, 11, 16, 23, 17, 2]\n",
      "Chromosome 3: Schedule = [15, 18, 11, 4, 2, 22, 23, 0, 6, 21, 17, 9, 16, 8, 20, 12, 3, 14, 1, 7, 10, 13, 24, 5, 19]\n",
      "Chromosome 4: Schedule = [18, 23, 13, 3, 8, 15, 2, 22, 6, 9, 0, 10, 19, 17, 1, 11, 16, 21, 20, 4, 7, 14, 12, 24, 5]\n",
      "Chromosome 5: Schedule = [18, 23, 7, 13, 6, 20, 1, 5, 19, 0, 12, 11, 9, 14, 4, 24, 22, 2, 21, 15, 8, 3, 17, 10, 16]\n",
      "Chromosome 6: Schedule = [18, 17, 24, 2, 21, 8, 1, 16, 7, 13, 6, 14, 3, 23, 15, 10, 5, 9, 0, 4, 12, 20, 22, 11, 19]\n",
      "Chromosome 7: Schedule = [15, 0, 7, 3, 23, 6, 19, 10, 9, 11, 13, 24, 18, 4, 20, 21, 12, 1, 2, 17, 22, 8, 16, 14, 5]\n",
      "Chromosome 8: Schedule = [10, 1, 2, 14, 19, 16, 11, 4, 6, 21, 3, 15, 22, 9, 17, 13, 0, 20, 23, 24, 18, 12, 5, 7, 8]\n",
      "Chromosome 9: Schedule = [8, 16, 23, 15, 7, 20, 6, 11, 0, 5, 10, 17, 3, 4, 14, 22, 19, 13, 12, 24, 21, 9, 18, 2, 1]\n",
      "Chromosome 10: Schedule = [20, 7, 24, 14, 19, 9, 23, 5, 16, 12, 15, 18, 3, 21, 2, 10, 11, 8, 4, 13, 6, 17, 22, 0, 1]\n",
      "Chromosome 11: Schedule = [5, 10, 2, 7, 17, 20, 6, 14, 24, 3, 23, 15, 1, 8, 19, 21, 12, 16, 0, 13, 22, 18, 11, 9, 4]\n",
      "Chromosome 12: Schedule = [18, 23, 14, 21, 13, 16, 1, 3, 0, 7, 8, 12, 6, 5, 10, 20, 24, 2, 22, 19, 15, 17, 11, 4, 9]\n",
      "Chromosome 13: Schedule = [0, 9, 4, 8, 15, 7, 3, 10, 12, 1, 14, 17, 5, 21, 19, 22, 6, 24, 2, 11, 13, 20, 18, 23, 16]\n",
      "Chromosome 14: Schedule = [0, 24, 11, 16, 1, 4, 14, 23, 8, 20, 6, 15, 5, 22, 2, 10, 21, 3, 19, 12, 7, 18, 9, 13, 17]\n",
      "Chromosome 15: Schedule = [11, 4, 21, 0, 19, 2, 18, 17, 23, 8, 5, 10, 20, 14, 16, 24, 13, 7, 15, 3, 1, 6, 12, 22, 9]\n",
      "Chromosome 16: Schedule = [2, 20, 7, 23, 14, 21, 13, 18, 16, 22, 6, 1, 12, 9, 8, 4, 11, 10, 19, 5, 0, 15, 3, 17, 24]\n",
      "Chromosome 17: Schedule = [13, 0, 15, 24, 7, 10, 12, 2, 1, 11, 17, 14, 6, 21, 4, 3, 18, 22, 8, 23, 20, 19, 5, 9, 16]\n",
      "Chromosome 18: Schedule = [8, 20, 3, 1, 5, 15, 23, 6, 12, 7, 21, 22, 10, 13, 17, 18, 9, 14, 11, 19, 24, 16, 0, 2, 4]\n",
      "Chromosome 19: Schedule = [7, 19, 14, 2, 1, 3, 4, 22, 5, 6, 10, 13, 15, 18, 17, 0, 16, 8, 23, 12, 9, 11, 20, 24, 21]\n",
      "Chromosome 20: Schedule = [6, 1, 2, 19, 3, 24, 11, 17, 5, 12, 9, 16, 23, 8, 7, 15, 20, 4, 22, 18, 14, 13, 0, 10, 21]\n",
      "Chromosome 21: Schedule = [16, 17, 9, 20, 23, 1, 15, 7, 12, 18, 4, 5, 6, 2, 10, 19, 22, 8, 13, 14, 24, 3, 11, 0, 21]\n",
      "Chromosome 22: Schedule = [20, 9, 1, 17, 3, 16, 24, 5, 6, 2, 15, 19, 12, 8, 0, 18, 7, 10, 22, 13, 11, 4, 21, 14, 23]\n",
      "Chromosome 23: Schedule = [13, 0, 19, 9, 5, 22, 15, 16, 17, 18, 2, 10, 3, 12, 23, 6, 7, 8, 1, 14, 21, 24, 20, 11, 4]\n",
      "Chromosome 24: Schedule = [18, 7, 0, 6, 3, 4, 13, 17, 9, 23, 19, 15, 16, 11, 2, 24, 1, 12, 5, 21, 20, 22, 10, 8, 14]\n",
      "Chromosome 25: Schedule = [13, 7, 19, 17, 24, 1, 15, 10, 6, 23, 20, 16, 11, 14, 22, 9, 3, 5, 2, 21, 0, 12, 18, 4, 8]\n",
      "Chromosome 26: Schedule = [20, 14, 13, 1, 7, 9, 15, 6, 23, 10, 0, 8, 16, 12, 24, 3, 17, 18, 2, 11, 5, 22, 19, 21, 4]\n",
      "Chromosome 27: Schedule = [21, 16, 15, 12, 2, 9, 10, 24, 7, 4, 14, 11, 3, 5, 22, 23, 8, 0, 19, 1, 20, 18, 6, 17, 13]\n",
      "Chromosome 28: Schedule = [1, 12, 18, 19, 14, 15, 13, 6, 24, 9, 10, 21, 8, 2, 4, 3, 11, 17, 20, 23, 7, 16, 0, 5, 22]\n",
      "Chromosome 29: Schedule = [2, 20, 18, 22, 15, 24, 12, 3, 19, 6, 23, 16, 10, 7, 21, 8, 14, 13, 1, 11, 4, 5, 17, 9, 0]\n",
      "Chromosome 30: Schedule = [5, 6, 20, 1, 19, 21, 10, 0, 13, 12, 7, 24, 2, 14, 4, 8, 18, 22, 16, 11, 3, 17, 23, 9, 15]\n",
      "Chromosome 31: Schedule = [1, 22, 10, 21, 2, 13, 7, 18, 0, 11, 5, 17, 23, 9, 15, 6, 12, 19, 16, 24, 20, 3, 14, 4, 8]\n",
      "Chromosome 32: Schedule = [0, 4, 2, 20, 21, 5, 14, 7, 9, 24, 12, 6, 13, 10, 17, 16, 1, 23, 18, 11, 3, 8, 15, 19, 22]\n",
      "Chromosome 33: Schedule = [8, 3, 21, 14, 6, 17, 22, 10, 7, 23, 19, 16, 15, 1, 12, 5, 18, 9, 20, 4, 24, 11, 13, 0, 2]\n",
      "Chromosome 34: Schedule = [10, 12, 3, 15, 6, 22, 14, 13, 17, 24, 9, 0, 16, 2, 11, 1, 20, 4, 23, 19, 5, 21, 8, 18, 7]\n",
      "Chromosome 35: Schedule = [19, 6, 20, 7, 18, 11, 2, 15, 0, 4, 3, 5, 24, 8, 16, 12, 17, 1, 21, 23, 10, 13, 14, 9, 22]\n",
      "Chromosome 36: Schedule = [21, 1, 8, 10, 24, 17, 6, 0, 15, 19, 12, 9, 7, 4, 16, 5, 20, 14, 23, 3, 18, 22, 11, 2, 13]\n",
      "Chromosome 37: Schedule = [24, 12, 0, 14, 9, 6, 10, 21, 1, 4, 17, 19, 13, 7, 5, 18, 20, 8, 16, 15, 3, 2, 23, 11, 22]\n",
      "Chromosome 38: Schedule = [23, 22, 5, 4, 16, 17, 3, 18, 19, 24, 12, 10, 13, 14, 21, 2, 6, 20, 15, 7, 11, 1, 0, 9, 8]\n",
      "Chromosome 39: Schedule = [14, 20, 7, 16, 9, 15, 5, 0, 23, 2, 17, 18, 6, 13, 19, 4, 1, 12, 21, 24, 11, 22, 8, 3, 10]\n",
      "Chromosome 40: Schedule = [9, 13, 19, 6, 16, 0, 18, 12, 8, 5, 23, 22, 15, 11, 4, 7, 10, 2, 1, 20, 3, 21, 24, 17, 14]\n",
      "Chromosome 41: Schedule = [17, 23, 13, 18, 14, 19, 15, 4, 21, 2, 11, 7, 3, 10, 16, 0, 5, 12, 6, 20, 9, 22, 8, 1, 24]\n",
      "Chromosome 42: Schedule = [3, 2, 8, 21, 10, 18, 0, 24, 19, 16, 13, 15, 22, 9, 1, 6, 20, 12, 7, 23, 5, 14, 17, 4, 11]\n",
      "Chromosome 43: Schedule = [6, 21, 24, 11, 16, 8, 10, 3, 9, 23, 15, 22, 20, 5, 2, 18, 0, 19, 12, 17, 1, 4, 7, 13, 14]\n",
      "Chromosome 44: Schedule = [13, 9, 17, 6, 23, 2, 12, 15, 20, 0, 18, 10, 22, 8, 11, 7, 24, 1, 16, 3, 21, 14, 19, 4, 5]\n",
      "Chromosome 45: Schedule = [21, 3, 8, 14, 10, 7, 6, 23, 19, 5, 15, 20, 2, 11, 9, 0, 17, 4, 13, 22, 16, 12, 18, 1, 24]\n",
      "Chromosome 46: Schedule = [11, 6, 20, 7, 14, 23, 12, 21, 5, 13, 24, 9, 8, 15, 3, 10, 19, 22, 18, 2, 0, 1, 17, 4, 16]\n",
      "Chromosome 47: Schedule = [21, 15, 8, 17, 3, 6, 4, 22, 9, 2, 18, 14, 23, 13, 0, 19, 7, 16, 20, 11, 1, 12, 24, 5, 10]\n",
      "Chromosome 48: Schedule = [0, 4, 7, 10, 15, 14, 21, 1, 9, 3, 8, 19, 6, 13, 5, 16, 23, 17, 18, 24, 2, 11, 20, 22, 12]\n",
      "Chromosome 49: Schedule = [16, 3, 21, 20, 11, 17, 1, 0, 19, 23, 7, 14, 10, 4, 13, 24, 15, 2, 6, 8, 5, 22, 18, 12, 9]\n",
      "Chromosome 50: Schedule = [20, 19, 8, 12, 17, 18, 22, 15, 4, 21, 7, 0, 16, 13, 24, 5, 1, 11, 14, 2, 10, 23, 9, 6, 3]\n",
      "Chromosome 51: Schedule = [7, 4, 20, 24, 9, 11, 23, 10, 12, 16, 17, 5, 15, 3, 13, 6, 2, 14, 19, 21, 18, 22, 8, 1, 0]\n",
      "Chromosome 52: Schedule = [19, 9, 20, 16, 21, 12, 6, 23, 14, 7, 0, 2, 15, 4, 24, 3, 8, 22, 11, 5, 10, 17, 18, 1, 13]\n",
      "Chromosome 53: Schedule = [21, 7, 19, 10, 3, 14, 23, 13, 2, 12, 16, 1, 22, 20, 18, 17, 0, 6, 4, 9, 11, 24, 8, 15, 5]\n",
      "Chromosome 54: Schedule = [11, 16, 13, 8, 1, 0, 15, 7, 18, 5, 21, 6, 22, 19, 20, 10, 2, 12, 14, 17, 23, 3, 24, 9, 4]\n",
      "Chromosome 55: Schedule = [9, 18, 19, 20, 13, 23, 11, 7, 21, 3, 0, 24, 17, 5, 2, 22, 16, 8, 4, 10, 6, 14, 12, 1, 15]\n",
      "Chromosome 56: Schedule = [11, 1, 17, 9, 15, 16, 20, 0, 21, 6, 10, 13, 12, 4, 24, 23, 3, 5, 2, 14, 22, 8, 18, 19, 7]\n",
      "Chromosome 57: Schedule = [5, 7, 0, 24, 4, 23, 16, 13, 3, 8, 17, 12, 19, 1, 2, 11, 14, 18, 21, 22, 9, 10, 20, 6, 15]\n",
      "Chromosome 58: Schedule = [6, 7, 17, 24, 11, 0, 10, 14, 21, 4, 23, 20, 18, 5, 19, 16, 13, 8, 22, 3, 1, 15, 9, 12, 2]\n",
      "Chromosome 59: Schedule = [0, 6, 13, 22, 12, 14, 18, 3, 11, 15, 7, 8, 10, 5, 1, 16, 20, 19, 4, 24, 2, 17, 21, 23, 9]\n",
      "Chromosome 60: Schedule = [17, 8, 6, 18, 7, 20, 3, 10, 12, 2, 21, 0, 5, 15, 23, 11, 9, 16, 24, 22, 13, 4, 1, 19, 14]\n",
      "Chromosome 61: Schedule = [12, 0, 14, 6, 2, 22, 20, 16, 13, 18, 17, 15, 24, 9, 7, 10, 23, 3, 4, 1, 5, 11, 21, 19, 8]\n",
      "Chromosome 62: Schedule = [18, 5, 2, 22, 15, 13, 14, 0, 7, 21, 19, 6, 12, 16, 17, 4, 20, 3, 23, 11, 1, 8, 10, 9, 24]\n",
      "Chromosome 63: Schedule = [16, 1, 7, 4, 12, 18, 22, 24, 9, 20, 6, 10, 17, 19, 0, 11, 13, 21, 15, 8, 3, 14, 5, 23, 2]\n",
      "Chromosome 64: Schedule = [3, 6, 11, 7, 18, 13, 17, 12, 23, 2, 5, 20, 10, 9, 24, 21, 8, 19, 16, 4, 14, 15, 1, 0, 22]\n",
      "Chromosome 65: Schedule = [6, 23, 16, 12, 5, 18, 9, 0, 7, 3, 19, 11, 8, 22, 1, 24, 21, 4, 2, 14, 15, 17, 20, 13, 10]\n",
      "Chromosome 66: Schedule = [17, 23, 24, 11, 4, 9, 2, 6, 19, 8, 13, 21, 14, 18, 5, 12, 7, 16, 20, 15, 10, 22, 0, 3, 1]\n",
      "Chromosome 67: Schedule = [11, 7, 12, 10, 4, 14, 3, 23, 16, 2, 6, 22, 8, 0, 21, 20, 17, 1, 19, 5, 9, 13, 18, 15, 24]\n",
      "Chromosome 68: Schedule = [14, 5, 18, 1, 7, 16, 20, 13, 4, 19, 0, 21, 22, 8, 2, 6, 3, 10, 23, 15, 12, 17, 9, 24, 11]\n",
      "Chromosome 69: Schedule = [23, 19, 24, 12, 6, 13, 2, 5, 18, 10, 16, 7, 4, 3, 22, 20, 0, 15, 11, 14, 17, 21, 8, 9, 1]\n",
      "Chromosome 70: Schedule = [21, 20, 0, 17, 14, 7, 2, 13, 3, 12, 10, 8, 6, 11, 22, 5, 16, 19, 9, 1, 18, 4, 24, 15, 23]\n",
      "Chromosome 71: Schedule = [1, 6, 12, 23, 20, 21, 0, 24, 13, 4, 16, 8, 17, 15, 19, 11, 18, 10, 22, 2, 3, 5, 9, 14, 7]\n",
      "Chromosome 72: Schedule = [8, 10, 7, 4, 11, 5, 21, 15, 16, 6, 12, 17, 20, 14, 9, 19, 24, 18, 22, 1, 13, 2, 0, 3, 23]\n",
      "Chromosome 73: Schedule = [22, 0, 24, 20, 17, 15, 10, 16, 8, 11, 1, 23, 19, 18, 13, 2, 3, 9, 6, 7, 21, 5, 14, 12, 4]\n",
      "Chromosome 74: Schedule = [16, 14, 6, 7, 10, 0, 1, 15, 9, 17, 12, 5, 24, 18, 8, 22, 11, 23, 21, 3, 4, 2, 19, 20, 13]\n",
      "Chromosome 75: Schedule = [1, 11, 9, 17, 16, 10, 7, 18, 24, 19, 14, 15, 6, 5, 22, 8, 2, 3, 21, 20, 0, 4, 13, 12, 23]\n",
      "Chromosome 76: Schedule = [1, 23, 24, 2, 20, 22, 12, 18, 19, 7, 6, 14, 3, 0, 21, 13, 17, 11, 5, 16, 9, 4, 15, 8, 10]\n",
      "Chromosome 77: Schedule = [24, 3, 17, 4, 18, 19, 20, 13, 9, 1, 6, 2, 8, 22, 5, 0, 16, 7, 21, 14, 10, 11, 12, 15, 23]\n",
      "Chromosome 78: Schedule = [20, 14, 19, 16, 5, 4, 15, 23, 6, 10, 11, 21, 2, 12, 0, 17, 7, 13, 3, 24, 22, 9, 1, 18, 8]\n",
      "Chromosome 79: Schedule = [9, 21, 19, 7, 22, 8, 3, 4, 20, 13, 11, 17, 5, 23, 18, 1, 0, 24, 16, 2, 15, 12, 6, 10, 14]\n",
      "Chromosome 80: Schedule = [0, 21, 23, 16, 13, 15, 10, 7, 3, 4, 20, 9, 2, 22, 14, 11, 19, 1, 24, 18, 17, 8, 12, 6, 5]\n",
      "Chromosome 81: Schedule = [24, 17, 18, 6, 5, 9, 15, 0, 3, 16, 11, 7, 4, 13, 8, 21, 10, 12, 2, 1, 23, 20, 22, 19, 14]\n",
      "Chromosome 82: Schedule = [11, 2, 10, 3, 15, 24, 22, 21, 0, 19, 23, 14, 20, 12, 16, 1, 9, 4, 17, 8, 13, 6, 5, 18, 7]\n",
      "Chromosome 83: Schedule = [11, 2, 9, 3, 24, 4, 19, 0, 17, 15, 16, 6, 20, 13, 21, 22, 10, 14, 8, 18, 12, 7, 5, 1, 23]\n",
      "Chromosome 84: Schedule = [3, 12, 4, 5, 24, 9, 6, 17, 21, 13, 0, 18, 10, 22, 14, 23, 2, 20, 1, 15, 11, 7, 19, 16, 8]\n",
      "Chromosome 85: Schedule = [16, 22, 15, 1, 24, 3, 9, 12, 20, 10, 4, 21, 13, 8, 2, 6, 7, 18, 19, 14, 0, 11, 17, 5, 23]\n",
      "Chromosome 86: Schedule = [12, 2, 14, 9, 19, 5, 10, 1, 4, 21, 0, 11, 20, 8, 18, 13, 6, 23, 24, 22, 17, 3, 16, 15, 7]\n",
      "Chromosome 87: Schedule = [12, 6, 4, 8, 16, 22, 18, 17, 15, 14, 7, 5, 1, 3, 24, 23, 2, 10, 11, 13, 9, 0, 21, 20, 19]\n",
      "Chromosome 88: Schedule = [0, 19, 7, 20, 8, 22, 17, 24, 13, 12, 10, 6, 2, 18, 1, 4, 3, 21, 9, 23, 15, 5, 16, 11, 14]\n",
      "Chromosome 89: Schedule = [1, 9, 12, 17, 0, 15, 24, 14, 19, 11, 4, 23, 8, 6, 16, 7, 10, 21, 13, 18, 20, 3, 5, 2, 22]\n",
      "Chromosome 90: Schedule = [19, 23, 20, 3, 13, 1, 6, 7, 15, 5, 2, 21, 16, 24, 14, 4, 22, 0, 18, 8, 11, 9, 17, 12, 10]\n",
      "Chromosome 91: Schedule = [23, 11, 7, 5, 13, 21, 24, 1, 17, 8, 18, 22, 4, 16, 12, 15, 9, 3, 10, 0, 2, 14, 20, 6, 19]\n",
      "Chromosome 92: Schedule = [21, 13, 24, 9, 0, 11, 4, 2, 18, 5, 6, 10, 14, 16, 1, 19, 22, 15, 3, 17, 7, 8, 20, 12, 23]\n",
      "Chromosome 93: Schedule = [18, 16, 12, 4, 3, 22, 2, 5, 0, 24, 20, 1, 23, 7, 15, 10, 6, 19, 8, 17, 11, 13, 14, 9, 21]\n",
      "Chromosome 94: Schedule = [4, 7, 12, 21, 20, 24, 8, 19, 10, 16, 0, 11, 6, 18, 23, 1, 17, 9, 5, 22, 15, 3, 2, 14, 13]\n",
      "Chromosome 95: Schedule = [5, 22, 21, 12, 16, 9, 0, 18, 13, 24, 7, 20, 1, 10, 8, 19, 23, 2, 14, 3, 11, 15, 17, 6, 4]\n",
      "Chromosome 96: Schedule = [21, 13, 16, 12, 11, 0, 9, 24, 5, 22, 2, 19, 17, 6, 1, 15, 20, 4, 14, 7, 10, 3, 18, 23, 8]\n",
      "Chromosome 97: Schedule = [3, 6, 10, 4, 7, 19, 15, 5, 1, 12, 0, 2, 22, 9, 21, 16, 20, 14, 13, 8, 11, 17, 23, 18, 24]\n",
      "Chromosome 98: Schedule = [23, 12, 21, 5, 4, 1, 16, 14, 3, 8, 15, 6, 11, 24, 2, 20, 10, 17, 19, 7, 22, 13, 9, 0, 18]\n",
      "Chromosome 99: Schedule = [22, 3, 10, 18, 1, 2, 0, 8, 23, 20, 12, 19, 7, 6, 5, 14, 13, 17, 9, 11, 15, 24, 21, 4, 16]\n",
      "Chromosome 100: Schedule = [8, 18, 4, 10, 20, 21, 24, 19, 23, 2, 0, 9, 7, 5, 16, 12, 3, 11, 1, 6, 13, 17, 15, 22, 14]\n",
      "\n",
      "Number of jobs completed: 5, Maximum profit: 191\n"
     ]
    }
   ],
   "source": [
    "id_ = df.iloc[:,0]\n",
    "deadline = df.iloc[:,1]\n",
    "profit = df.iloc[:,2]\n",
    "\n",
    "jobs = [Job(id_[i], deadline[i], profit[i]) for i in range(len(id_))]\n",
    "max_profit, job_count, best_schedule = ga_run(\n",
    "    jobs, \n",
    "    pop_size=100,\n",
    "    generations=700, \n",
    "    mutation_rate=0.4,\n",
    "    tournament_size=8,\n",
    "    selection_method=\"roulette\",\n",
    "    crossover_method=\"order\",\n",
    "    mutation_method=\"random_reset\")\n",
    "\n",
    "print(f\"\\nNumber of jobs completed: {job_count}, Maximum profit: {max_profit}\")"
   ]
  },
  {
   "cell_type": "code",
   "execution_count": 5,
   "metadata": {},
   "outputs": [
    {
     "name": "stdout",
     "output_type": "stream",
     "text": [
      "\n",
      "Number of jobs completed: 5, Maximum profit: 191\n",
      "Genetic Algorithm Scheduled Jobs:\n",
      " ['w', 'v', 'j', 'o', 'u']\n"
     ]
    }
   ],
   "source": [
    "print(f\"\\nNumber of jobs completed: {job_count}, Maximum profit: {max_profit}\")\n",
    "print(f\"Genetic Algorithm Scheduled Jobs:\\n {best_schedule}\")"
   ]
  },
  {
   "cell_type": "markdown",
   "metadata": {},
   "source": [
    "### Greedy Comparison\n",
    "To judge the maximum profit output for the genetic algorithm, it will be compared to the output of a greedy algorithm. See the implementation of the algorithm below:"
   ]
  },
  {
   "cell_type": "code",
   "execution_count": 6,
   "metadata": {},
   "outputs": [],
   "source": [
    "def greedy_job_scheduling(jobs):\n",
    "    jobs.sort(key=lambda x: x.profit, reverse=True)\n",
    "    max_deadline = max(job.deadline for job in jobs)\n",
    "    time_slots = [-1] * max_deadline\n",
    "    total_profit = 0\n",
    "    completed_jobs = 0\n",
    "\n",
    "    for job in jobs:\n",
    "        for t in range(job.deadline - 1, -1, -1):\n",
    "            if time_slots[t] == -1:\n",
    "                time_slots[t] = job.id\n",
    "                total_profit += job.profit\n",
    "                completed_jobs += 1\n",
    "                break\n",
    "\n",
    "    print(\"Greedy Algorithm Scheduled Jobs:\\n\", time_slots)\n",
    "    return completed_jobs, total_profit"
   ]
  },
  {
   "cell_type": "code",
   "execution_count": 7,
   "metadata": {},
   "outputs": [
    {
     "name": "stdout",
     "output_type": "stream",
     "text": [
      "Greedy Algorithm Scheduled Jobs:\n",
      " ['w', 'j', 'l', 'u', 'o']\n",
      "\n",
      "Greedy Algorithm:\n",
      " Jobs completed: 5. Maximum profit: 203.\n"
     ]
    }
   ],
   "source": [
    "greedy_jobs, greedy_profit = greedy_job_scheduling(jobs)\n",
    "print(f\"\\nGreedy Algorithm:\\n Jobs completed: {greedy_jobs}. Maximum profit: {greedy_profit}.\")"
   ]
  },
  {
   "cell_type": "markdown",
   "metadata": {},
   "source": [
    "In the output above the optimal sequence of jobs with the maximum possible profit."
   ]
  }
 ],
 "metadata": {
  "kernelspec": {
   "display_name": ".venv",
   "language": "python",
   "name": "python3"
  },
  "language_info": {
   "codemirror_mode": {
    "name": "ipython",
    "version": 3
   },
   "file_extension": ".py",
   "mimetype": "text/x-python",
   "name": "python",
   "nbconvert_exporter": "python",
   "pygments_lexer": "ipython3",
   "version": "3.13.2"
  }
 },
 "nbformat": 4,
 "nbformat_minor": 4
}
