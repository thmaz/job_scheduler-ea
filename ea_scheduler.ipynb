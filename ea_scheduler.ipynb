{
 "cells": [
  {
   "cell_type": "code",
   "execution_count": 1,
   "metadata": {},
   "outputs": [
    {
     "name": "stdout",
     "output_type": "stream",
     "text": [
      "Import success\n"
     ]
    }
   ],
   "source": [
    "from genetic import Job, ga_run\n",
    "import pandas as pd"
   ]
  },
  {
   "cell_type": "code",
   "execution_count": 2,
   "metadata": {},
   "outputs": [
    {
     "name": "stdout",
     "output_type": "stream",
     "text": [
      "/home/th0miz/Documents/ai/genetic.py\n"
     ]
    }
   ],
   "source": [
    "import genetic\n",
    "print(genetic.__file__)\n"
   ]
  },
  {
   "cell_type": "code",
   "execution_count": 3,
   "metadata": {},
   "outputs": [
    {
     "data": {
      "text/plain": [
       "<bound method NDFrame.head of    a  3  10\n",
       "0  b  2   5\n",
       "1  c  5  10\n",
       "2  d  1  10\n",
       "3  e  3  30\n",
       "4  f  1  20\n",
       "5  g  2  10>"
      ]
     },
     "execution_count": 3,
     "metadata": {},
     "output_type": "execute_result"
    }
   ],
   "source": [
    "df = pd.read_csv(\"resources/example_problems(p2).csv\")\n",
    "\n",
    "df.head"
   ]
  },
  {
   "cell_type": "code",
   "execution_count": 4,
   "metadata": {},
   "outputs": [
    {
     "name": "stdout",
     "output_type": "stream",
     "text": [
      "0    b\n",
      "1    c\n",
      "2    d\n",
      "3    e\n",
      "4    f\n",
      "5    g\n",
      "Name: a, dtype: object\n"
     ]
    }
   ],
   "source": [
    "col1 = df.iloc[:,0]\n",
    "print(col1)"
   ]
  },
  {
   "cell_type": "code",
   "execution_count": null,
   "metadata": {},
   "outputs": [
    {
     "ename": "TypeError",
     "evalue": "Population.evaluate() missing 1 required positional argument: 'target'",
     "output_type": "error",
     "traceback": [
      "\u001b[0;31m---------------------------------------------------------------------------\u001b[0m",
      "\u001b[0;31mTypeError\u001b[0m                                 Traceback (most recent call last)",
      "Cell \u001b[0;32mIn[5], line 6\u001b[0m\n\u001b[1;32m      3\u001b[0m profit \u001b[38;5;241m=\u001b[39m df\u001b[38;5;241m.\u001b[39miloc[:,\u001b[38;5;241m2\u001b[39m]\n\u001b[1;32m      5\u001b[0m jobs \u001b[38;5;241m=\u001b[39m [Job(id_[i], deadline[i], profit[i]) \u001b[38;5;28;01mfor\u001b[39;00m i \u001b[38;5;129;01min\u001b[39;00m \u001b[38;5;28mrange\u001b[39m(\u001b[38;5;28mlen\u001b[39m(id_))]\n\u001b[0;32m----> 6\u001b[0m job_count, max_profit \u001b[38;5;241m=\u001b[39m \u001b[43mga_run\u001b[49m\u001b[43m(\u001b[49m\u001b[43mjobs\u001b[49m\u001b[43m,\u001b[49m\u001b[43m \u001b[49m\u001b[43mpop_size\u001b[49m\u001b[43m \u001b[49m\u001b[38;5;241;43m=\u001b[39;49m\u001b[43m \u001b[49m\u001b[38;5;241;43m100\u001b[39;49m\u001b[43m,\u001b[49m\u001b[43m \u001b[49m\u001b[43mgenerations\u001b[49m\u001b[43m \u001b[49m\u001b[38;5;241;43m=\u001b[39;49m\u001b[43m \u001b[49m\u001b[38;5;241;43m100\u001b[39;49m\u001b[43m)\u001b[49m\n\u001b[1;32m      8\u001b[0m \u001b[38;5;28mprint\u001b[39m(\u001b[38;5;124mf\u001b[39m\u001b[38;5;124m\"\u001b[39m\u001b[38;5;124mNumber of jobs completed: \u001b[39m\u001b[38;5;132;01m{\u001b[39;00mjob_count\u001b[38;5;132;01m}\u001b[39;00m\u001b[38;5;124m, Maximum profit: \u001b[39m\u001b[38;5;132;01m{\u001b[39;00mmax_profit\u001b[38;5;132;01m}\u001b[39;00m\u001b[38;5;124m\"\u001b[39m)\n",
      "File \u001b[0;32m~/Documents/ai/genetic.py:68\u001b[0m, in \u001b[0;36mga_run\u001b[0;34m(jobs, pop_size, generations)\u001b[0m\n\u001b[1;32m     65\u001b[0m pop\u001b[38;5;241m.\u001b[39mpopulate()\n\u001b[1;32m     67\u001b[0m \u001b[38;5;28;01mfor\u001b[39;00m _ \u001b[38;5;129;01min\u001b[39;00m \u001b[38;5;28mrange\u001b[39m (generations):\n\u001b[0;32m---> 68\u001b[0m     \u001b[43mpop\u001b[49m\u001b[38;5;241;43m.\u001b[39;49m\u001b[43mevaluate\u001b[49m\u001b[43m(\u001b[49m\u001b[43m)\u001b[49m\n\u001b[1;32m     69\u001b[0m     parents \u001b[38;5;241m=\u001b[39m pop\u001b[38;5;241m.\u001b[39magents[:pop\u001b[38;5;241m.\u001b[39mn_pop \u001b[38;5;241m/\u001b[39m\u001b[38;5;241m/\u001b[39m \u001b[38;5;241m2\u001b[39m] \u001b[38;5;66;03m# top half of performing parents will be selected\u001b[39;00m\n\u001b[1;32m     70\u001b[0m     new_pop \u001b[38;5;241m=\u001b[39m pop\u001b[38;5;241m.\u001b[39mcross_over(parents)\n",
      "\u001b[0;31mTypeError\u001b[0m: Population.evaluate() missing 1 required positional argument: 'target'"
     ]
    }
   ],
   "source": [
    "id_ = df.iloc[:,0]\n",
    "deadline = df.iloc[:,1]\n",
    "profit = df.iloc[:,2]\n",
    "\n",
    "jobs = [Job(id_[i], deadline[i], profit[i]) for i in range(len(id_))]\n",
    "job_count, max_profit = ga_run(jobs, pop_size = 100, generations = 100)\n",
    "\n",
    "print(f\"Number of jobs completed: {job_count}, Maximum profit: {max_profit}\")"
   ]
  }
 ],
 "metadata": {
  "kernelspec": {
   "display_name": ".venv",
   "language": "python",
   "name": "python3"
  },
  "language_info": {
   "codemirror_mode": {
    "name": "ipython",
    "version": 3
   },
   "file_extension": ".py",
   "mimetype": "text/x-python",
   "name": "python",
   "nbconvert_exporter": "python",
   "pygments_lexer": "ipython3",
   "version": "3.13.2"
  }
 },
 "nbformat": 4,
 "nbformat_minor": 4
}
