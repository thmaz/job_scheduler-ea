{
 "cells": [
  {
   "cell_type": "code",
   "execution_count": 7,
   "metadata": {},
   "outputs": [],
   "source": [
    "import genetic\n",
    "import pandas as pd"
   ]
  },
  {
   "cell_type": "code",
   "execution_count": 4,
   "metadata": {},
   "outputs": [
    {
     "data": {
      "text/plain": [
       "<bound method NDFrame.head of    a  3  10\n",
       "0  b  2   5\n",
       "1  c  5  10\n",
       "2  d  1  10\n",
       "3  e  3  30\n",
       "4  f  1  20\n",
       "5  g  2  10>"
      ]
     },
     "execution_count": 4,
     "metadata": {},
     "output_type": "execute_result"
    }
   ],
   "source": [
    "df = pd.read_csv(\"resources/example_problems(p2).csv\")\n",
    "\n",
    "df.head"
   ]
  },
  {
   "cell_type": "code",
   "execution_count": 5,
   "metadata": {},
   "outputs": [
    {
     "name": "stdout",
     "output_type": "stream",
     "text": [
      "0    b\n",
      "1    c\n",
      "2    d\n",
      "3    e\n",
      "4    f\n",
      "5    g\n",
      "Name: a, dtype: object\n"
     ]
    }
   ],
   "source": [
    "col1 = df.iloc[:,0]\n",
    "print(col1)"
   ]
  },
  {
   "cell_type": "code",
   "execution_count": 6,
   "metadata": {},
   "outputs": [
    {
     "ename": "NameError",
     "evalue": "name 'Job' is not defined",
     "output_type": "error",
     "traceback": [
      "\u001b[31m---------------------------------------------------------------------------\u001b[39m",
      "\u001b[31mNameError\u001b[39m                                 Traceback (most recent call last)",
      "\u001b[36mCell\u001b[39m\u001b[36m \u001b[39m\u001b[32mIn[6]\u001b[39m\u001b[32m, line 5\u001b[39m\n\u001b[32m      2\u001b[39m deadline = df.iloc[:,\u001b[32m1\u001b[39m]\n\u001b[32m      3\u001b[39m profit = df.iloc[:,\u001b[32m2\u001b[39m]\n\u001b[32m----> \u001b[39m\u001b[32m5\u001b[39m jobs = [\u001b[43mJob\u001b[49m(id_[i], deadline[i], profit[i]) \u001b[38;5;28;01mfor\u001b[39;00m i \u001b[38;5;129;01min\u001b[39;00m \u001b[38;5;28mrange\u001b[39m(\u001b[38;5;28mlen\u001b[39m(id_))]\n\u001b[32m      6\u001b[39m job_count, max_profit = ga_run(jobs)\n\u001b[32m      8\u001b[39m \u001b[38;5;28mprint\u001b[39m(\u001b[33mf\u001b[39m\u001b[33m\"\u001b[39m\u001b[33mNumber of jobs completed: \u001b[39m\u001b[38;5;132;01m{\u001b[39;00mjob_count\u001b[38;5;132;01m}\u001b[39;00m\u001b[33m, Maximum profit: \u001b[39m\u001b[38;5;132;01m{\u001b[39;00mmax_profit\u001b[38;5;132;01m}\u001b[39;00m\u001b[33m\"\u001b[39m)\n",
      "\u001b[31mNameError\u001b[39m: name 'Job' is not defined"
     ]
    }
   ],
   "source": [
    "id_ = df.iloc[:,0]\n",
    "deadline = df.iloc[:,1]\n",
    "profit = df.iloc[:,2]\n",
    "\n",
    "jobs = [Job(id_[i], deadline[i], profit[i]) for i in range(len(id_))]\n",
    "job_count, max_profit = ga_run(jobs)\n",
    "\n",
    "print(f\"Number of jobs completed: {job_count}, Maximum profit: {max_profit}\")"
   ]
  }
 ],
 "metadata": {
  "kernelspec": {
   "display_name": ".venv",
   "language": "python",
   "name": "python3"
  },
  "language_info": {
   "codemirror_mode": {
    "name": "ipython",
    "version": 3
   },
   "file_extension": ".py",
   "mimetype": "text/x-python",
   "name": "python",
   "nbconvert_exporter": "python",
   "pygments_lexer": "ipython3",
   "version": "3.13.2"
  }
 },
 "nbformat": 4,
 "nbformat_minor": 4
}
