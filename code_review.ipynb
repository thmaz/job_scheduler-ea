{
 "cells": [
  {
   "cell_type": "markdown",
   "metadata": {},
   "source": [
    "### Code Review\n",
    "In this document, the code implementation for a genetic algorithm will be discussed. Full implementation can be found inside the file \"genetic.py\". For the evaluation of the performance of the algorithm, see file \"algorithm_evaluation.ipynb\"."
   ]
  },
  {
   "cell_type": "markdown",
   "metadata": {},
   "source": [
    "#### 1. Fitness Function\n",
    "Let's start with the fitness function. The fitness function is responsible for "
   ]
  },
  {
   "cell_type": "code",
   "execution_count": null,
   "metadata": {},
   "outputs": [],
   "source": [
    "def fitness(schedule, jobs):\n",
    "    time_slots = [0] * max(job.deadline for job in jobs)\n",
    "    total_profit = 0\n",
    "    completed_jobs = 0\n",
    "\n",
    "    for job_id in schedule:\n",
    "        job = jobs[job_id]\n",
    "        # range() goes from latest deadline to earliest deadline\n",
    "        # provides more flexibility in fitting jobs within the schedule based on deadlines\n",
    "        # jobs will run as late as possible to maximize amount of jobs to run in earlier timeslots\n",
    "        for t in range(min(job.deadline, len(time_slots)) -1, -1, -1):\n",
    "            if time_slots[t] == 0:\n",
    "                time_slots[t] = job.id\n",
    "                total_profit += job.profit\n",
    "                completed_jobs += 1\n",
    "                break\n",
    "    return total_profit, completed_jobs"
   ]
  },
  {
   "cell_type": "code",
   "execution_count": null,
   "metadata": {},
   "outputs": [],
   "source": []
  },
  {
   "cell_type": "code",
   "execution_count": null,
   "metadata": {},
   "outputs": [],
   "source": []
  },
  {
   "cell_type": "code",
   "execution_count": null,
   "metadata": {},
   "outputs": [],
   "source": []
  },
  {
   "cell_type": "code",
   "execution_count": null,
   "metadata": {},
   "outputs": [],
   "source": []
  }
 ],
 "metadata": {
  "language_info": {
   "name": "python"
  }
 },
 "nbformat": 4,
 "nbformat_minor": 2
}
